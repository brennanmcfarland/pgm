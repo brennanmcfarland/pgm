{
 "cells": [
  {
   "cell_type": "markdown",
   "metadata": {},
   "source": [
    "# Homework 3 - Larger Graphical Model"
   ]
  },
  {
   "cell_type": "markdown",
   "metadata": {},
   "source": [
    "Brennan McFarland  \n",
    "bfm21"
   ]
  },
  {
   "cell_type": "markdown",
   "metadata": {},
   "source": [
    "## Problem Description"
   ]
  },
  {
   "cell_type": "markdown",
   "metadata": {},
   "source": [
    "Suppose we want to monitor the success of a network packet transmission relative to various factors affecting the reliability of the network.  This information could be used to infer the condition of the network or troubleshoot problems based on such limited information as whether the packet was successfully transmitted and nothing else."
   ]
  },
  {
   "cell_type": "markdown",
   "metadata": {},
   "source": [
    "## Background"
   ]
  },
  {
   "cell_type": "markdown",
   "metadata": {},
   "source": [
    "Our transmission utilizes an acknowledgement-based protocol such as TCP where the receiver can acknowledge back to the host which packets it has received.  This is a widespread technique to increase protocol reliability, as the sender can send a duplicate of the original packet if it has not received the corresponding acknowledgement within a given period of time.  Since our network will be affected by the error rate in a given transmission, we will also assume that this protocol is either not error-correcting or that repeated error-correction is liable to decrease the chances of successful packet transmission, for example by requiring more data to be sent that could potentially be lost."
   ]
  },
  {
   "cell_type": "markdown",
   "metadata": {},
   "source": [
    "## Probability Model"
   ]
  },
  {
   "cell_type": "markdown",
   "metadata": {},
   "source": [
    "For our probability model we will take into account the following variables:\n",
    "\n",
    " - $V$ : successful packet transmission - binary (P is for probability and we use S and T elsewhere)\n",
    " - $D$ : number of duplicate packets sent thus far - discrete\n",
    " - $A$ : time since last packet acknowledgement - discrete (measured in time steps)\n",
    " - $E$ : packet error rate - discrete (measured in # errors)\n",
    " - $L$ : network load - discrete (measured in multiples of packets)\n",
    " - $U$ : network is up - binary\n",
    " - $S$ : sender is up - binary\n",
    " - $R$ : receiver is up - binary\n",
    " - $C$ : connection between sender and receiver is up - binary\n",
    " \n",
    "Let the network then be defined by the following probabilities:\n",
    "\n"
   ]
  },
  {
   "cell_type": "code",
   "execution_count": 2,
   "metadata": {},
   "outputs": [],
   "source": [
    "#TODO: once we have nice probs for the model, fill them in the above"
   ]
  },
  {
   "cell_type": "code",
   "execution_count": 4,
   "metadata": {},
   "outputs": [
    {
     "data": {
      "text/plain": [
       "<matplotlib.image.AxesImage at 0x7f5ef58397b8>"
      ]
     },
     "execution_count": 4,
     "metadata": {},
     "output_type": "execute_result"
    },
    {
     "data": {
      "image/png": "[encoded data removed]",
      "text/plain": [
       "<Figure size 432x288 with 1 Axes>"
      ]
     },
     "metadata": {},
     "output_type": "display_data"
    }
   ],
   "source": [
    "from graphviz import Digraph\n",
    "import matplotlib.pyplot as plt\n",
    "import matplotlib.image as imtool\n",
    "\n",
    "image_format = 'png'\n",
    "dot = Digraph(format=image_format)\n",
    "dot.node('V', 'V')\n",
    "dot.node('D', 'D')\n",
    "dot.node('A', 'A')\n",
    "dot.node('E', 'E')\n",
    "dot.node('L', 'L')\n",
    "dot.node('U', 'U')\n",
    "dot.node('S', 'S')\n",
    "dot.node('R', 'R')\n",
    "dot.node('C', 'C')\n",
    "dot.edges(['DV', 'AV', 'EV', 'LD', 'LA', 'UL', 'UD', 'UA', 'CU', 'RU', 'SU'])\n",
    "path = 'exercise1-graph'\n",
    "dot.render(path)\n",
    "imorg = imtool.imread(path + '.' + image_format)\n",
    "plt.axis('off')\n",
    "plt.imshow(imorg) # NOTE: the first time it might not show the image, if it doesn't just execute this block again"
   ]
  },
  {
   "cell_type": "markdown",
   "metadata": {},
   "source": [
    "## Building the Model in Python"
   ]
  },
  {
   "cell_type": "code",
   "execution_count": 5,
   "metadata": {},
   "outputs": [],
   "source": [
    "from pgmpy.models import BayesianModel as bysmodel\n",
    "from pgmpy.factors.discrete import TabularCPD as tcpd\n",
    "from pgmpy.factors.continuous import ContinuousFactor\n",
    "import scipy\n",
    "import math\n",
    "import numpy as np"
   ]
  },
  {
   "cell_type": "markdown",
   "metadata": {},
   "source": [
    "Before we define our model, let us first define a few helper functions to quickly generate the corresponding probability distributions.  Note that we normalize the distributions because rounding error is introduced when we calculate the probabilities in the distribution and the sum probability of all possible events given a particular set of causes must sum exactly to 1.  Normalization of our pdfs is especially important because we define the distribution directly rather than via log values, which would be more accurate, but either way the pgmpy library forces us to validate our distribution.  Additionally, if in the process of calculating a particular distribution we end up overflowing our floats, we fall back to using integer math, which has the side effect of introducing more error.  Normalizing our distribution at the end solves all these problems simultaneously."
   ]
  },
  {
   "cell_type": "code",
   "execution_count": 29,
   "metadata": {},
   "outputs": [],
   "source": [
    "def binom(w, n, p):\n",
    "    if(w < 0 or w > n):\n",
    "       return 0\n",
    "    # it stops trying to convert to float before calculating if the numbers are too large\n",
    "    try:\n",
    "        return float(math.factorial(n))/float(math.factorial(n-w)*math.factorial(w))*(p**w)*((1-p)**(n-w))\n",
    "    except:\n",
    "        return math.factorial(n)/(math.factorial(n-w)*math.factorial(w))*(p**w)*((1-p)**(n-w))\n",
    "\n",
    "def pdf_binom(n, p):\n",
    "    return [binom(i, n, p) for i in range(n)]\n",
    "\n",
    "# TODO: make sure it actually does this or change the comment if it works out anyway\n",
    "# return an array for a decreasing discrete distribution\n",
    "def decreasing_distribution(numvals):\n",
    "    dist = pdf_binom(numvals, .2)\n",
    "    return [dist]\n",
    "\n",
    "# makes sure the values in the distribution all sum exactly to 1\n",
    "def fix_dist_round_error(dist):\n",
    "    dist_sum = np.sum(dist)\n",
    "    if dist_sum < 1.0:\n",
    "        was_fixed = True\n",
    "        dist[len(dist)-1] = 1.0-dist_sum + dist[len(dist)-1]\n",
    "    last_nonzero = len(dist)-1\n",
    "    while dist_sum > 1.0:\n",
    "        was_fixed = True\n",
    "        # print(dist_sum)\n",
    "        dist[last_nonzero] = max(0, dist[last_nonzero]-(dist_sum-1.0))\n",
    "        last_nonzero -= 1\n",
    "        dist_sum = np.sum(dist)\n",
    "    if np.sum(dist) != 1.0:\n",
    "        return fix_dist_round_error(dist)\n",
    "    print(np.sum(dist))\n",
    "    return dist\n",
    "\n",
    "# TODO: define better distributions\n",
    "\n",
    "# define the range (ie number of possible values) of all variables\n",
    "# the range of all binary variables is 2 values, true or false; we redundantly define them here for clarity\n",
    "ranges = {'V': 2, 'S': 2, 'R': 2, 'C': 2, 'U': 2, 'D': 3, 'A': 10, 'E': 5, 'L': 10}\n",
    "\n",
    "# prior probability\n",
    "# we normalize because rounding error is introduced when generating the distribution\n",
    "def ppd(prior):\n",
    "    dist = tcpd(variable=prior,\n",
    "                variable_card=ranges[prior],\n",
    "                values=decreasing_distribution(ranges[prior]))\n",
    "    dist.normalize()\n",
    "    return dist\n",
    "\n",
    "# conditional probability\n",
    "# we normalize because rounding error is introduced when generating the distribution\n",
    "def cpd(*variables):\n",
    "    dist = tcpd(variable=variables[0], variable_card=ranges[variables[0]],\n",
    "               evidence=variables[1:], evidence_card=[ranges[i] for i in variables[1:]],\n",
    "               values=decreasing_distribution(np.prod([ranges[i] for i in variables])))\n",
    "    dist.normalize()\n",
    "    return dist\n"
   ]
  },
  {
   "cell_type": "markdown",
   "metadata": {},
   "source": [
    "Defining our model is then just a matter of defining the causal relationships between variables and calling the above helpers to generate their prior and conditional probability distributions:"
   ]
  },
  {
   "cell_type": "code",
   "execution_count": 30,
   "metadata": {},
   "outputs": [],
   "source": [
    "# define model with connections between variables\n",
    "model = bysmodel([('D', 'V'), ('A', 'V'), ('E', 'V'), ('L', 'D'), \n",
    "                  ('L', 'A'), ('U', 'D'), ('U', 'L'), ('U', 'A'),\n",
    "                  ('S', 'U'), ('R', 'U'), ('C', 'U')])"
   ]
  },
  {
   "cell_type": "code",
   "execution_count": 31,
   "metadata": {
    "scrolled": true
   },
   "outputs": [
    {
     "data": {
      "text/plain": [
       "True"
      ]
     },
     "execution_count": 31,
     "metadata": {},
     "output_type": "execute_result"
    }
   ],
   "source": [
    "# define our prior and conditional pdfs\n",
    "priorS = ppd('S')\n",
    "priorR = ppd('R')\n",
    "priorC = ppd('C')\n",
    "priorE = ppd('E')\n",
    "cpdV = cpd('V', 'D', 'A', 'E')\n",
    "cpdA = cpd('A', 'L', 'U')\n",
    "cpdD = cpd('D', 'L', 'U')\n",
    "cpdL = cpd('L', 'U')\n",
    "cpdU = cpd('U', 'S', 'R', 'C')\n",
    "\n",
    "# add distributions to the model\n",
    "model.add_cpds(priorS, priorR, priorC, priorE, cpdV, cpdA, cpdD, cpdL, cpdU)\n",
    "# check consistency\n",
    "model.check_model()"
   ]
  },
  {
   "cell_type": "markdown",
   "metadata": {},
   "source": [
    "## Solving an Example Problem: Comparison of Methods"
   ]
  },
  {
   "cell_type": "markdown",
   "metadata": {},
   "source": [
    "Given this network, let us compare different methods of computing a particular conditional probability.  Let's suppose we want to figure out the most probable network load ($L$) given that the sender and receiver are both up ($S,R$), that 2 duplicate packets have been sent thus far ($D$) and that packet transmission was successful ($V$).  In short, we want to derive the conditional probability distribution  \n",
    "$P(L|S,R,D=2,V)$"
   ]
  },
  {
   "cell_type": "markdown",
   "metadata": {},
   "source": [
    "### Variable Elimination"
   ]
  },
  {
   "cell_type": "code",
   "execution_count": 39,
   "metadata": {},
   "outputs": [],
   "source": [
    "def solve_and_display(solver, model):\n",
    "    x = (solver.query(['L'],\n",
    "                      evidence={'S' : 1, 'R' : 1, 'D' : 2, 'V' : 1})\n",
    "                                 ['L'].values)\n",
    "    print(x)\n",
    "    plt.bar(range(0,ranges['L']), x)\n",
    "    plt.grid()\n",
    "    plt.show()"
   ]
  },
  {
   "cell_type": "code",
   "execution_count": 40,
   "metadata": {},
   "outputs": [
    {
     "name": "stdout",
     "output_type": "stream",
     "text": [
      "[2.32708591e-01 7.44075250e-01 2.31624215e-02 5.36816531e-05\n",
      " 5.52759125e-08 2.15226229e-11 2.74422979e-15 1.37134263e-19\n",
      " 3.57755631e-24 2.42339235e-29]\n"
     ]
    },
    {
     "data": {
      "image/png": "[encoded data removed]",
      "text/plain": [
       "<Figure size 432x288 with 1 Axes>"
      ]
     },
     "metadata": {},
     "output_type": "display_data"
    }
   ],
   "source": [
    "from pgmpy.inference import VariableElimination\n",
    "\n",
    "VESolver = VariableElimination(model)\n",
    "solve_and_display(VESolver, model)\n"
   ]
  },
  {
   "cell_type": "markdown",
   "metadata": {},
   "source": [
    "### Belief Propagation"
   ]
  },
  {
   "cell_type": "code",
   "execution_count": 41,
   "metadata": {},
   "outputs": [
    {
     "ename": "TypeError",
     "evalue": "object of type 'dict_keyiterator' has no len()",
     "output_type": "error",
     "traceback": [
      "\u001b[0;31m---------------------------------------------------------------------------\u001b[0m",
      "\u001b[0;31mTypeError\u001b[0m                                 Traceback (most recent call last)",
      "\u001b[0;32m<ipython-input-41-11bf16fc1807>\u001b[0m in \u001b[0;36m<module>\u001b[0;34m()\u001b[0m\n\u001b[1;32m      3\u001b[0m \u001b[0mBPSolver\u001b[0m \u001b[0;34m=\u001b[0m \u001b[0mBeliefPropagation\u001b[0m\u001b[0;34m(\u001b[0m\u001b[0mmodel\u001b[0m\u001b[0;34m)\u001b[0m\u001b[0;34m\u001b[0m\u001b[0m\n\u001b[1;32m      4\u001b[0m \u001b[0mBPSolver\u001b[0m\u001b[0;34m.\u001b[0m\u001b[0mcalibrate\u001b[0m\u001b[0;34m(\u001b[0m\u001b[0;34m)\u001b[0m\u001b[0;34m\u001b[0m\u001b[0m\n\u001b[0;32m----> 5\u001b[0;31m \u001b[0msolve_and_display\u001b[0m\u001b[0;34m(\u001b[0m\u001b[0mBPSolver\u001b[0m\u001b[0;34m,\u001b[0m \u001b[0mmodel\u001b[0m\u001b[0;34m)\u001b[0m\u001b[0;34m\u001b[0m\u001b[0m\n\u001b[0m",
      "\u001b[0;32m<ipython-input-39-c2669afea6d9>\u001b[0m in \u001b[0;36msolve_and_display\u001b[0;34m(solver, model)\u001b[0m\n\u001b[1;32m      1\u001b[0m \u001b[0;32mdef\u001b[0m \u001b[0msolve_and_display\u001b[0m\u001b[0;34m(\u001b[0m\u001b[0msolver\u001b[0m\u001b[0;34m,\u001b[0m \u001b[0mmodel\u001b[0m\u001b[0;34m)\u001b[0m\u001b[0;34m:\u001b[0m\u001b[0;34m\u001b[0m\u001b[0m\n\u001b[1;32m      2\u001b[0m     x = (solver.query(['L'],\n\u001b[0;32m----> 3\u001b[0;31m                       evidence={'S' : 1, 'R' : 1, 'D' : 2, 'V' : 1})\n\u001b[0m\u001b[1;32m      4\u001b[0m                                  ['L'].values)\n\u001b[1;32m      5\u001b[0m     \u001b[0mprint\u001b[0m\u001b[0;34m(\u001b[0m\u001b[0mx\u001b[0m\u001b[0;34m)\u001b[0m\u001b[0;34m\u001b[0m\u001b[0m\n",
      "\u001b[0;32m/usr/lib/python3.6/site-packages/pgmpy/inference/ExactInference.py\u001b[0m in \u001b[0;36mquery\u001b[0;34m(self, variables, evidence)\u001b[0m\n\u001b[1;32m    655\u001b[0m         ...                          evidence={'A': 0, 'R': 0, 'G': 0, 'L': 1})\n\u001b[1;32m    656\u001b[0m         \"\"\"\n\u001b[0;32m--> 657\u001b[0;31m         \u001b[0;32mreturn\u001b[0m \u001b[0mself\u001b[0m\u001b[0;34m.\u001b[0m\u001b[0m_query\u001b[0m\u001b[0;34m(\u001b[0m\u001b[0mvariables\u001b[0m\u001b[0;34m=\u001b[0m\u001b[0mvariables\u001b[0m\u001b[0;34m,\u001b[0m \u001b[0moperation\u001b[0m\u001b[0;34m=\u001b[0m\u001b[0;34m'marginalize'\u001b[0m\u001b[0;34m,\u001b[0m \u001b[0mevidence\u001b[0m\u001b[0;34m=\u001b[0m\u001b[0mevidence\u001b[0m\u001b[0;34m)\u001b[0m\u001b[0;34m\u001b[0m\u001b[0m\n\u001b[0m\u001b[1;32m    658\u001b[0m \u001b[0;34m\u001b[0m\u001b[0m\n\u001b[1;32m    659\u001b[0m     \u001b[0;32mdef\u001b[0m \u001b[0mmap_query\u001b[0m\u001b[0;34m(\u001b[0m\u001b[0mself\u001b[0m\u001b[0;34m,\u001b[0m \u001b[0mvariables\u001b[0m\u001b[0;34m=\u001b[0m\u001b[0;32mNone\u001b[0m\u001b[0;34m,\u001b[0m \u001b[0mevidence\u001b[0m\u001b[0;34m=\u001b[0m\u001b[0;32mNone\u001b[0m\u001b[0;34m)\u001b[0m\u001b[0;34m:\u001b[0m\u001b[0;34m\u001b[0m\u001b[0m\n",
      "\u001b[0;32m/usr/lib/python3.6/site-packages/pgmpy/inference/ExactInference.py\u001b[0m in \u001b[0;36m_query\u001b[0;34m(self, variables, operation, evidence)\u001b[0m\n\u001b[1;32m    590\u001b[0m             \u001b[0mroot_node\u001b[0m \u001b[0;34m=\u001b[0m \u001b[0msubtree\u001b[0m\u001b[0;34m.\u001b[0m\u001b[0mnodes\u001b[0m\u001b[0;34m(\u001b[0m\u001b[0;34m)\u001b[0m\u001b[0;34m[\u001b[0m\u001b[0;36m0\u001b[0m\u001b[0;34m]\u001b[0m\u001b[0;34m\u001b[0m\u001b[0m\n\u001b[1;32m    591\u001b[0m         \u001b[0;32melse\u001b[0m\u001b[0;34m:\u001b[0m\u001b[0;34m\u001b[0m\u001b[0m\n\u001b[0;32m--> 592\u001b[0;31m             \u001b[0mroot_node\u001b[0m \u001b[0;34m=\u001b[0m \u001b[0mtuple\u001b[0m\u001b[0;34m(\u001b[0m\u001b[0mfilter\u001b[0m\u001b[0;34m(\u001b[0m\u001b[0;32mlambda\u001b[0m \u001b[0mx\u001b[0m\u001b[0;34m:\u001b[0m \u001b[0mlen\u001b[0m\u001b[0;34m(\u001b[0m\u001b[0msubtree\u001b[0m\u001b[0;34m.\u001b[0m\u001b[0mneighbors\u001b[0m\u001b[0;34m(\u001b[0m\u001b[0mx\u001b[0m\u001b[0;34m)\u001b[0m\u001b[0;34m)\u001b[0m \u001b[0;34m==\u001b[0m \u001b[0;36m1\u001b[0m\u001b[0;34m,\u001b[0m \u001b[0msubtree\u001b[0m\u001b[0;34m.\u001b[0m\u001b[0mnodes\u001b[0m\u001b[0;34m(\u001b[0m\u001b[0;34m)\u001b[0m\u001b[0;34m)\u001b[0m\u001b[0;34m)\u001b[0m\u001b[0;34m[\u001b[0m\u001b[0;36m0\u001b[0m\u001b[0;34m]\u001b[0m\u001b[0;34m\u001b[0m\u001b[0m\n\u001b[0m\u001b[1;32m    593\u001b[0m         \u001b[0mclique_potential_list\u001b[0m \u001b[0;34m=\u001b[0m \u001b[0;34m[\u001b[0m\u001b[0mself\u001b[0m\u001b[0;34m.\u001b[0m\u001b[0mclique_beliefs\u001b[0m\u001b[0;34m[\u001b[0m\u001b[0mroot_node\u001b[0m\u001b[0;34m]\u001b[0m\u001b[0;34m]\u001b[0m\u001b[0;34m\u001b[0m\u001b[0m\n\u001b[1;32m    594\u001b[0m \u001b[0;34m\u001b[0m\u001b[0m\n",
      "\u001b[0;32m/usr/lib/python3.6/site-packages/pgmpy/inference/ExactInference.py\u001b[0m in \u001b[0;36m<lambda>\u001b[0;34m(x)\u001b[0m\n\u001b[1;32m    590\u001b[0m             \u001b[0mroot_node\u001b[0m \u001b[0;34m=\u001b[0m \u001b[0msubtree\u001b[0m\u001b[0;34m.\u001b[0m\u001b[0mnodes\u001b[0m\u001b[0;34m(\u001b[0m\u001b[0;34m)\u001b[0m\u001b[0;34m[\u001b[0m\u001b[0;36m0\u001b[0m\u001b[0;34m]\u001b[0m\u001b[0;34m\u001b[0m\u001b[0m\n\u001b[1;32m    591\u001b[0m         \u001b[0;32melse\u001b[0m\u001b[0;34m:\u001b[0m\u001b[0;34m\u001b[0m\u001b[0m\n\u001b[0;32m--> 592\u001b[0;31m             \u001b[0mroot_node\u001b[0m \u001b[0;34m=\u001b[0m \u001b[0mtuple\u001b[0m\u001b[0;34m(\u001b[0m\u001b[0mfilter\u001b[0m\u001b[0;34m(\u001b[0m\u001b[0;32mlambda\u001b[0m \u001b[0mx\u001b[0m\u001b[0;34m:\u001b[0m \u001b[0mlen\u001b[0m\u001b[0;34m(\u001b[0m\u001b[0msubtree\u001b[0m\u001b[0;34m.\u001b[0m\u001b[0mneighbors\u001b[0m\u001b[0;34m(\u001b[0m\u001b[0mx\u001b[0m\u001b[0;34m)\u001b[0m\u001b[0;34m)\u001b[0m \u001b[0;34m==\u001b[0m \u001b[0;36m1\u001b[0m\u001b[0;34m,\u001b[0m \u001b[0msubtree\u001b[0m\u001b[0;34m.\u001b[0m\u001b[0mnodes\u001b[0m\u001b[0;34m(\u001b[0m\u001b[0;34m)\u001b[0m\u001b[0;34m)\u001b[0m\u001b[0;34m)\u001b[0m\u001b[0;34m[\u001b[0m\u001b[0;36m0\u001b[0m\u001b[0;34m]\u001b[0m\u001b[0;34m\u001b[0m\u001b[0m\n\u001b[0m\u001b[1;32m    593\u001b[0m         \u001b[0mclique_potential_list\u001b[0m \u001b[0;34m=\u001b[0m \u001b[0;34m[\u001b[0m\u001b[0mself\u001b[0m\u001b[0;34m.\u001b[0m\u001b[0mclique_beliefs\u001b[0m\u001b[0;34m[\u001b[0m\u001b[0mroot_node\u001b[0m\u001b[0;34m]\u001b[0m\u001b[0;34m]\u001b[0m\u001b[0;34m\u001b[0m\u001b[0m\n\u001b[1;32m    594\u001b[0m \u001b[0;34m\u001b[0m\u001b[0m\n",
      "\u001b[0;31mTypeError\u001b[0m: object of type 'dict_keyiterator' has no len()"
     ]
    }
   ],
   "source": [
    "from pgmpy.inference import BeliefPropagation\n",
    "\n",
    "BPSolver = BeliefPropagation(model)\n",
    "BPSolver.calibrate()\n",
    "solve_and_display(BPSolver, model)"
   ]
  },
  {
   "cell_type": "markdown",
   "metadata": {},
   "source": [
    "### Monte Carlo Sampling"
   ]
  },
  {
   "cell_type": "code",
   "execution_count": null,
   "metadata": {},
   "outputs": [],
   "source": []
  }
 ],
 "metadata": {
  "kernelspec": {
   "display_name": "Python 3",
   "language": "python",
   "name": "python3"
  },
  "language_info": {
   "codemirror_mode": {
    "name": "ipython",
    "version": 3
   },
   "file_extension": ".py",
   "mimetype": "text/x-python",
   "name": "python",
   "nbconvert_exporter": "python",
   "pygments_lexer": "ipython3",
   "version": "3.6.4"
  }
 },
 "nbformat": 4,
 "nbformat_minor": 2
}

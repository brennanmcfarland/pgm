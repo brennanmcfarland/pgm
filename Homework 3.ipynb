{
 "cells": [
  {
   "cell_type": "markdown",
   "metadata": {},
   "source": [
    "# Homework 3 - Larger Graphical Model"
   ]
  },
  {
   "cell_type": "markdown",
   "metadata": {},
   "source": [
    "Brennan McFarland  \n",
    "bfm21"
   ]
  },
  {
   "cell_type": "markdown",
   "metadata": {},
   "source": [
    "## Problem Description"
   ]
  },
  {
   "cell_type": "markdown",
   "metadata": {},
   "source": [
    "Suppose we want to monitor the success of a network packet transmission relative to various factors affecting the reliability of the network.  This information could be used to infer the condition of the network or troubleshoot problems based on such limited information as whether the packet was successfully transmitted and nothing else."
   ]
  },
  {
   "cell_type": "markdown",
   "metadata": {},
   "source": [
    "## Background"
   ]
  },
  {
   "cell_type": "markdown",
   "metadata": {},
   "source": [
    "Our transmission utilizes an acknowledgement-based protocol such as TCP where the receiver can acknowledge back to the host which packets it has received.  This is a widespread technique to increase protocol reliability, as the sender can send a duplicate of the original packet if it has not received the corresponding acknowledgement within a given period of time.  Since our network will be affected by the error rate in a given transmission, we will also assume that this protocol is either not error-correcting or that repeated error-correction is liable to decrease the chances of successful packet transmission, for example by requiring more data to be sent that could potentially be lost."
   ]
  },
  {
   "cell_type": "markdown",
   "metadata": {},
   "source": [
    "## Probability Model"
   ]
  },
  {
   "cell_type": "markdown",
   "metadata": {},
   "source": [
    "For our probability model we will take into account the following variables:\n",
    "\n",
    " - $V$ : successful packet transmission - binary (P is for probability and we use S and T elsewhere)\n",
    " - $D$ : number of duplicate packets sent thus far - discrete\n",
    " - $A$ : time since last packet acknowledgement - discrete (measured in time steps)\n",
    " - $E$ : packet error rate - discrete (measured in # errors)\n",
    " - $L$ : network load - discrete (measured in multiples of packets)\n",
    " - $U$ : network is up - binary\n",
    " - $S$ : sender is up - binary\n",
    " - $R$ : receiver is up - binary\n",
    " - $C$ : connection between sender and receiver is up - binary"
   ]
  },
  {
   "cell_type": "code",
   "execution_count": 25,
   "metadata": {},
   "outputs": [
    {
     "data": {
      "text/plain": [
       "<matplotlib.image.AxesImage at 0x7fc26fd9c748>"
      ]
     },
     "execution_count": 25,
     "metadata": {},
     "output_type": "execute_result"
    },
    {
     "data": {
      "image/png": "[encoded data removed]",
      "text/plain": [
       "<Figure size 432x288 with 1 Axes>"
      ]
     },
     "metadata": {},
     "output_type": "display_data"
    }
   ],
   "source": [
    "from graphviz import Digraph\n",
    "import matplotlib.pyplot as plt\n",
    "import matplotlib.image as imtool\n",
    "\n",
    "image_format = 'png'\n",
    "dot = Digraph(format=image_format)\n",
    "dot.node('V', 'V')\n",
    "dot.node('D', 'D')\n",
    "dot.node('A', 'A')\n",
    "dot.node('E', 'E')\n",
    "dot.node('L', 'L')\n",
    "dot.node('U', 'U')\n",
    "dot.node('S', 'S')\n",
    "dot.node('R', 'R')\n",
    "dot.node('C', 'C')\n",
    "dot.edges(['DV', 'AV', 'EV', 'LD', 'LA', 'UL', 'UD', 'UA', 'CU', 'RU', 'SU'])\n",
    "path = 'exercise1-graph'\n",
    "dot.render(path)\n",
    "imorg = imtool.imread(path + '.' + image_format)\n",
    "plt.axis('off')\n",
    "plt.imshow(imorg) # NOTE: the first time it might not show the image, if it doesn't just execute this block again"
   ]
  },
  {
   "cell_type": "markdown",
   "metadata": {},
   "source": [
    "We define reasonable probabilities for this model when building it in the next section."
   ]
  },
  {
   "cell_type": "markdown",
   "metadata": {},
   "source": [
    "## Building the Model in Python"
   ]
  },
  {
   "cell_type": "code",
   "execution_count": 2,
   "metadata": {},
   "outputs": [],
   "source": [
    "from pgmpy.models import BayesianModel as bysmodel\n",
    "from pgmpy.factors.discrete import TabularCPD as tcpd\n",
    "from pgmpy.factors.continuous import ContinuousFactor\n",
    "import scipy\n",
    "import math\n",
    "import numpy as np"
   ]
  },
  {
   "cell_type": "markdown",
   "metadata": {},
   "source": [
    "Before we define our model, let us first define a few helper functions to quickly generate the corresponding probability distributions, beginning with the distribution functions themselves.  In cases where we are more likely to see a mean value (for example network load) with a lesser probability of more or less we use the tried and true binomial distribution with a mean adjusted for the range of possible values.  \n",
    "In other cases, we use a distribution whose probability is strictly decreasing, ie, the geometric distribution:  \n",
    "    $P(k)=(1-p)^kp$  \n",
    "Since this distribution has an infinitely large domain (positive integers), we restrict it to the possible values of the variable.  We later normalize to make sure all probabilities sum to exactly 1."
   ]
  },
  {
   "cell_type": "code",
   "execution_count": 24,
   "metadata": {},
   "outputs": [],
   "source": [
    "def binom(w, n, p):\n",
    "    if(w < 0 or w > n):\n",
    "       return 0\n",
    "    # it stops trying to convert to float before calculating if the numbers are too large\n",
    "    try:\n",
    "        return float(math.factorial(n))/float(math.factorial(n-w)*math.factorial(w))*(p**w)*((1-p)**(n-w))\n",
    "    except:\n",
    "        return math.factorial(n)/(math.factorial(n-w)*math.factorial(w))*(p**w)*((1-p)**(n-w))\n",
    "    \n",
    "def geom(p, k):\n",
    "    return ((1.0-float(p))**float(k))*float(p)\n",
    "\n",
    "def pdf_binom(n, p):\n",
    "    return [binom(i, n, p) for i in range(n)]\n",
    "\n",
    "# NOTE: since we don't want the distribution going off to infinity, we cut it off at n and normalize later for efficiency\n",
    "def pdf_geom(p, n):\n",
    "    return [geom(p, k) for k in range(n)]\n",
    "\n",
    "# return an array for a strictly decreasing discrete distribution\n",
    "def decreasing_distribution(numvals):\n",
    "    dist = pdf_geom(1.0/float(numvals**.5), numvals)\n",
    "    return [dist]\n",
    "\n",
    "# return an array for a \"regular\", ie, increasing and then decreasing, discrete distribution\n",
    "def regular_distribution(numvals):\n",
    "    dist = pdf_binom(numvals, .5)\n",
    "    return [dist]"
   ]
  },
  {
   "cell_type": "markdown",
   "metadata": {},
   "source": [
    "Note that we normalize the distributions because rounding error is introduced when we calculate the probabilities in the distribution and the sum probability of all possible events given a particular set of causes must sum exactly to 1.  Normalization of our pdfs is especially important because we define the distribution directly rather than via log values, which would be more accurate, but either way the pgmpy library forces us to validate our distribution.  Additionally, if in the process of calculating a particular distribution we end up overflowing our floats, we fall back to using integer math, which has the side effect of introducing more error.  Normalizing our distribution at the end solves all these problems simultaneously.  We then place the range of our values into a dictionary and define conveneint functions for generating prior and conditional probabilities for our model."
   ]
  },
  {
   "cell_type": "code",
   "execution_count": 26,
   "metadata": {},
   "outputs": [],
   "source": [
    "# makes sure the values in the distribution all sum exactly to 1\n",
    "def fix_dist_round_error(dist):\n",
    "    dist_sum = np.sum(dist)\n",
    "    if dist_sum < 1.0:\n",
    "        was_fixed = True\n",
    "        dist[len(dist)-1] = 1.0-dist_sum + dist[len(dist)-1]\n",
    "    last_nonzero = len(dist)-1\n",
    "    while dist_sum > 1.0:\n",
    "        was_fixed = True\n",
    "        # print(dist_sum)\n",
    "        dist[last_nonzero] = max(0, dist[last_nonzero]-(dist_sum-1.0))\n",
    "        last_nonzero -= 1\n",
    "        dist_sum = np.sum(dist)\n",
    "    if np.sum(dist) != 1.0:\n",
    "        return fix_dist_round_error(dist)\n",
    "    print(np.sum(dist))\n",
    "    return dist\n",
    "\n",
    "# define the range (ie number of possible values) of all variables\n",
    "# the range of all binary variables is 2 values, true or false; we redundantly define them here for clarity\n",
    "ranges = {'V': 2, 'S': 2, 'R': 2, 'C': 2, 'U': 2, 'D': 3, 'A': 10, 'E': 5, 'L': 10}\n",
    "\n",
    "# prior probability\n",
    "# we normalize because rounding error is introduced when generating the distribution\n",
    "def ppd(prior, distribution):\n",
    "    dist = tcpd(variable=prior,\n",
    "                variable_card=ranges[prior],\n",
    "                values=distribution(ranges[prior]))\n",
    "    dist.normalize()\n",
    "    return dist\n",
    "\n",
    "# conditional probability\n",
    "# we normalize because rounding error is introduced when generating the distribution\n",
    "def cpd(distribution, *variables):\n",
    "    dist = tcpd(variable=variables[0], variable_card=ranges[variables[0]],\n",
    "               evidence=variables[1:], evidence_card=[ranges[i] for i in variables[1:]],\n",
    "               values=distribution(np.prod([ranges[i] for i in variables])))\n",
    "    dist.normalize()\n",
    "    return dist\n"
   ]
  },
  {
   "cell_type": "markdown",
   "metadata": {},
   "source": [
    "Defining our model is then just a matter of defining the causal relationships between variables and calling the above helpers to generate their prior and conditional probability distributions:"
   ]
  },
  {
   "cell_type": "code",
   "execution_count": 27,
   "metadata": {},
   "outputs": [],
   "source": [
    "# define model with connections between variables\n",
    "model = bysmodel([('D', 'V'), ('A', 'V'), ('E', 'V'), ('L', 'D'), \n",
    "                  ('L', 'A'), ('U', 'D'), ('U', 'L'), ('U', 'A'),\n",
    "                  ('S', 'U'), ('R', 'U'), ('C', 'U')])"
   ]
  },
  {
   "cell_type": "code",
   "execution_count": 28,
   "metadata": {
    "scrolled": true
   },
   "outputs": [
    {
     "data": {
      "text/plain": [
       "True"
      ]
     },
     "execution_count": 28,
     "metadata": {},
     "output_type": "execute_result"
    }
   ],
   "source": [
    "# define our prior and conditional pdfs\n",
    "priorS = ppd('S', decreasing_distribution)\n",
    "priorR = ppd('R', decreasing_distribution)\n",
    "priorC = ppd('C', decreasing_distribution)\n",
    "priorE = ppd('E', regular_distribution)\n",
    "cpdV = cpd(decreasing_distribution, 'V', 'D', 'A', 'E')\n",
    "cpdA = cpd(decreasing_distribution, 'A', 'L', 'U')\n",
    "cpdD = cpd(regular_distribution, 'D', 'L', 'U')\n",
    "cpdL = cpd(regular_distribution, 'L', 'U')\n",
    "cpdU = cpd(decreasing_distribution, 'U', 'S', 'R', 'C')\n",
    "\n",
    "# add distributions to the model\n",
    "model.add_cpds(priorS, priorR, priorC, priorE, cpdV, cpdA, cpdD, cpdL, cpdU)\n",
    "# check consistency\n",
    "model.check_model()"
   ]
  },
  {
   "cell_type": "markdown",
   "metadata": {},
   "source": [
    "## Solving an Example Problem: Comparison of Methods"
   ]
  },
  {
   "cell_type": "markdown",
   "metadata": {},
   "source": [
    "Given this network, let us compare different methods of computing a particular conditional probability.  Let's suppose we want to figure out the most probable network load ($L$) given that the sender and receiver are both up ($S,R$), that 2 duplicate packets have been sent thus far ($D$) and that packet transmission was successful ($V$).  In short, we want to derive the conditional probability distribution  \n",
    "$P(L|S,R,D=2,V)$"
   ]
  },
  {
   "cell_type": "markdown",
   "metadata": {},
   "source": [
    "### Variable Elimination"
   ]
  },
  {
   "cell_type": "code",
   "execution_count": 29,
   "metadata": {},
   "outputs": [],
   "source": [
    "def solve_and_display(solver, model):\n",
    "    distvals = (solver.query(['L'],\n",
    "                      evidence={'S' : 1, 'R' : 1, 'D' : 2, 'V' : 1})\n",
    "                                 ['L'].values)\n",
    "    plt.bar(range(0,ranges['L']), distvals)\n",
    "    plt.grid()\n",
    "    plt.show()"
   ]
  },
  {
   "cell_type": "code",
   "execution_count": 33,
   "metadata": {},
   "outputs": [
    {
     "data": {
      "image/png": "[encoded data removed]",
      "text/plain": [
       "<Figure size 432x288 with 1 Axes>"
      ]
     },
     "metadata": {},
     "output_type": "display_data"
    }
   ],
   "source": [
    "from pgmpy.inference import VariableElimination\n",
    "\n",
    "VESolver = VariableElimination(model)\n",
    "solve_and_display(VESolver, model)\n"
   ]
  },
  {
   "cell_type": "markdown",
   "metadata": {},
   "source": [
    "This is what we would expect, as the sender and receiver being up and successful packet transmission is likely to be at the same time as a lighter network load, which here has a pdf with a mean around 2 as opposed to half its maximum value, 5.  The Variable Elimination solver is able to derive the resulting distribution in negligible time, making it a suitable method of derivation."
   ]
  },
  {
   "cell_type": "markdown",
   "metadata": {},
   "source": [
    "### Belief Propagation"
   ]
  },
  {
   "cell_type": "code",
   "execution_count": 34,
   "metadata": {},
   "outputs": [
    {
     "data": {
      "image/png": "[encoded data removed]",
      "text/plain": [
       "<Figure size 432x288 with 1 Axes>"
      ]
     },
     "metadata": {},
     "output_type": "display_data"
    }
   ],
   "source": [
    "from pgmpy.inference import BeliefPropagation\n",
    "\n",
    "BPSolver = BeliefPropagation(model)\n",
    "BPSolver.calibrate()\n",
    "solve_and_display(BPSolver, model)"
   ]
  },
  {
   "cell_type": "markdown",
   "metadata": {},
   "source": [
    "Similarly, running belief propagation on the model for the same query is nearly instantaneous and thus an effective method of deriving probabilities given this particular case."
   ]
  },
  {
   "cell_type": "markdown",
   "metadata": {},
   "source": [
    "### Bayesian Model Sampling"
   ]
  },
  {
   "cell_type": "code",
   "execution_count": null,
   "metadata": {},
   "outputs": [
    {
     "name": "stdout",
     "output_type": "stream",
     "text": [
      "about to rejection sample...\n"
     ]
    }
   ],
   "source": [
    "from pgmpy.factors.discrete import State\n",
    "from pgmpy.sampling import BayesianModelSampling\n",
    "from pandas.core.frame import DataFrame\n",
    "\n",
    "\n",
    "def condProb(trace, event, cond):\n",
    "    if type(trace) is DataFrame:\n",
    "        trace = trace.transpose().to_dict().values()\n",
    "    # find all samples satisfy conditions\n",
    "    for k, v in cond.items():\n",
    "        trace = [smp for smp in trace if smp[k] == v]\n",
    "    # record quantity of all samples fulfill condition\n",
    "    nCondSample = len(trace)\n",
    "    # find all samples satisfy event\n",
    "    for k, v in event.items():\n",
    "        trace = [smp for smp in trace if smp[k] == v]\n",
    "    # calculate conditional probability\n",
    "    return len(trace) / nCondSample\n",
    "\n",
    "class MonteCarlo:\n",
    "    model = None\n",
    "    nsamples = 100;\n",
    "    solverComponent = None\n",
    "    \n",
    "    def __init__(self, bysmodel, nsamples=100):\n",
    "        self.model = bysmodel\n",
    "        self.nsamples = nsamples\n",
    "        self.solverComponent = BayesianModelSampling(model)\n",
    "    \n",
    "    # NOTE: query here only works for 1 query variable, but that's fine for this example\n",
    "    def query(self, qvars, evidence):\n",
    "        qvar = qvars[0]\n",
    "        evars = evidence\n",
    "        estates = [State(e, evars[e]) for e in evars.keys()]\n",
    "        # NOTE: this will take a very very long time\n",
    "        print(\"about to rejection sample...\")\n",
    "        sample = self.solverComponent.rejection_sample(\n",
    "            evidence=estates,\n",
    "            size=self.nsamples)\n",
    "        print(\"rejection sample complete\")\n",
    "        return [condProb(sample, {qvar : val}, evars) for val in range(ranges[qvar])]\n",
    "    \n",
    "\n",
    "MCSolver = MonteCarlo(model)\n",
    "solve_and_display(MCSolver, model)\n",
    "\n"
   ]
  },
  {
   "cell_type": "markdown",
   "metadata": {},
   "source": [
    "Note that this method takes noticably longer than the other two when calculating the conditional probability distribution, and so is probably not an effective means of deriving probability distributions for the case of this particular model."
   ]
  },
  {
   "cell_type": "code",
   "execution_count": null,
   "metadata": {},
   "outputs": [],
   "source": []
  }
 ],
 "metadata": {
  "kernelspec": {
   "display_name": "Python 3",
   "language": "python",
   "name": "python3"
  },
  "language_info": {
   "codemirror_mode": {
    "name": "ipython",
    "version": 3
   },
   "file_extension": ".py",
   "mimetype": "text/x-python",
   "name": "python",
   "nbconvert_exporter": "python",
   "pygments_lexer": "ipython3",
   "version": "3.6.4"
  }
 },
 "nbformat": 4,
 "nbformat_minor": 2
}

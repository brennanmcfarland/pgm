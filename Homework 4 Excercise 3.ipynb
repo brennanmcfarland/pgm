{
 "cells": [
  {
   "cell_type": "code",
   "execution_count": 1,
   "metadata": {},
   "outputs": [],
   "source": [
    "import gzip, pickle, numpy as np, matplotlib.pyplot as plt"
   ]
  },
  {
   "cell_type": "markdown",
   "metadata": {},
   "source": [
    "### Loading Data"
   ]
  },
  {
   "cell_type": "code",
   "execution_count": 2,
   "metadata": {},
   "outputs": [],
   "source": [
    "with gzip.open('data/mnist.pkl.gz', 'rb') as f:\n",
    "    f = pickle._Unpickler(f)\n",
    "    f.encoding = 'latin1'\n",
    "    trainSet, validSet, testSet = f.load()\n",
    "    mnistData = np.concatenate((trainSet[0], validSet[0], testSet[0]), axis=0)"
   ]
  },
  {
   "cell_type": "markdown",
   "metadata": {},
   "source": [
    "### Helper Functions"
   ]
  },
  {
   "cell_type": "code",
   "execution_count": 3,
   "metadata": {},
   "outputs": [],
   "source": [
    "def showImageSamples(imageset, n, shape=[28,28], col=3, width=16, dispopt='gray', random=True):\n",
    "    row    = np.ceil(n / col)\n",
    "    height = np.around(row * (width / col))\n",
    "    plt.figure(figsize=(width, height))\n",
    "    subplotIndex = 100 * row + 10 * col + 1\n",
    "    for i in range(n):\n",
    "        if random:\n",
    "            img = imageset[np.random.randint(len(imageset), size=1)]\n",
    "        else:\n",
    "            img = imageset[i]\n",
    "        plt.subplot(subplotIndex + i)\n",
    "        plt.imshow(img.reshape(shape), cmap=dispopt)"
   ]
  },
  {
   "cell_type": "markdown",
   "metadata": {},
   "source": [
    "### Principal Component Analysis"
   ]
  },
  {
   "cell_type": "markdown",
   "metadata": {},
   "source": [
    "**Notice: this implement only support initialization of 2D Gaussian model. You need to extend it to support other dimensionalities.** (Tips: you need to generate $n \\times n$ orthogonal matrix for $n$D Gaussian model as your eigen vectors)"
   ]
  },
  {
   "cell_type": "code",
   "execution_count": 4,
   "metadata": {},
   "outputs": [
    {
     "name": "stdout",
     "output_type": "stream",
     "text": [
      "[[-5.7692989e-10 -6.5157951e-10  3.8258643e-11 ...  0.0000000e+00\n",
      "   0.0000000e+00  0.0000000e+00]\n",
      " [ 8.5715977e-09  1.3445265e-08  4.0557571e-09 ... -0.0000000e+00\n",
      "  -0.0000000e+00 -0.0000000e+00]]\n"
     ]
    },
    {
     "ename": "ValueError",
     "evalue": "cannot reshape array of size 2 into shape (28,28)",
     "output_type": "error",
     "traceback": [
      "\u001b[0;31m--------------------------------------------------------------------------\u001b[0m",
      "\u001b[0;31mValueError\u001b[0m                               Traceback (most recent call last)",
      "\u001b[0;32m<ipython-input-4-913b4f487381>\u001b[0m in \u001b[0;36m<module>\u001b[0;34m()\u001b[0m\n\u001b[1;32m      3\u001b[0m \u001b[0;31m# reduce the dimension of data to 2 using PCA\u001b[0m\u001b[0;34m\u001b[0m\u001b[0;34m\u001b[0m\u001b[0m\n\u001b[1;32m      4\u001b[0m \u001b[0mmnistData2D\u001b[0m\u001b[0;34m,\u001b[0m \u001b[0meigenVectors\u001b[0m\u001b[0;34m,\u001b[0m \u001b[0meigenValues\u001b[0m \u001b[0;34m=\u001b[0m \u001b[0mdimReducePCA\u001b[0m\u001b[0;34m(\u001b[0m\u001b[0mmnistData\u001b[0m\u001b[0;34m,\u001b[0m \u001b[0;36m2\u001b[0m\u001b[0;34m)\u001b[0m\u001b[0;34m\u001b[0m\u001b[0m\n\u001b[0;32m----> 5\u001b[0;31m \u001b[0mshowImageSamples\u001b[0m\u001b[0;34m(\u001b[0m\u001b[0meigenVectors\u001b[0m\u001b[0;34m.\u001b[0m\u001b[0mT\u001b[0m\u001b[0;34m,\u001b[0m \u001b[0;36m9\u001b[0m\u001b[0;34m,\u001b[0m \u001b[0mrandom\u001b[0m\u001b[0;34m=\u001b[0m\u001b[0;32mFalse\u001b[0m\u001b[0;34m)\u001b[0m\u001b[0;34m\u001b[0m\u001b[0m\n\u001b[0m",
      "\u001b[0;32m<ipython-input-3-a2623ef22b20>\u001b[0m in \u001b[0;36mshowImageSamples\u001b[0;34m(imageset, n, shape, col, width, dispopt, random)\u001b[0m\n\u001b[1;32m     10\u001b[0m             \u001b[0mimg\u001b[0m \u001b[0;34m=\u001b[0m \u001b[0mimageset\u001b[0m\u001b[0;34m[\u001b[0m\u001b[0mi\u001b[0m\u001b[0;34m]\u001b[0m\u001b[0;34m\u001b[0m\u001b[0m\n\u001b[1;32m     11\u001b[0m         \u001b[0mplt\u001b[0m\u001b[0;34m.\u001b[0m\u001b[0msubplot\u001b[0m\u001b[0;34m(\u001b[0m\u001b[0msubplotIndex\u001b[0m \u001b[0;34m+\u001b[0m \u001b[0mi\u001b[0m\u001b[0;34m)\u001b[0m\u001b[0;34m\u001b[0m\u001b[0m\n\u001b[0;32m---> 12\u001b[0;31m         \u001b[0mplt\u001b[0m\u001b[0;34m.\u001b[0m\u001b[0mimshow\u001b[0m\u001b[0;34m(\u001b[0m\u001b[0mimg\u001b[0m\u001b[0;34m.\u001b[0m\u001b[0mreshape\u001b[0m\u001b[0;34m(\u001b[0m\u001b[0mshape\u001b[0m\u001b[0;34m)\u001b[0m\u001b[0;34m,\u001b[0m \u001b[0mcmap\u001b[0m\u001b[0;34m=\u001b[0m\u001b[0mdispopt\u001b[0m\u001b[0;34m)\u001b[0m\u001b[0;34m\u001b[0m\u001b[0m\n\u001b[0m",
      "\u001b[0;31mValueError\u001b[0m: cannot reshape array of size 2 into shape (28,28)"
     ]
    },
    {
     "data": {
      "image/png": "[encoded data removed]",
      "text/plain": [
       "<Figure size 1152x1152 with 1 Axes>"
      ]
     },
     "metadata": {},
     "output_type": "display_data"
    }
   ],
   "source": [
    "from gmmlib import dimReducePCA\n",
    "\n",
    "# reduce the dimension of data to 2 using PCA\n",
    "mnistData2D, eigenVectors, eigenValues = dimReducePCA(mnistData, 2)\n",
    "showImageSamples(eigenVectors.T, 9, random=False)"
   ]
  },
  {
   "cell_type": "code",
   "execution_count": null,
   "metadata": {},
   "outputs": [],
   "source": [
    "# randomly pick coordinates as center of Gaussian distribution\n",
    "def randinitMean(n, drange):\n",
    "    mu = []\n",
    "    for m in range(n):\n",
    "        mu.append([np.random.uniform(drange[i]['MIN'], drange[i]['MAX']) for i in range(len(drange))])\n",
    "    # return inf form of numpy.ndarray\n",
    "    return np.asarray(mu)"
   ]
  },
  {
   "cell_type": "code",
   "execution_count": null,
   "metadata": {},
   "outputs": [],
   "source": [
    "def randinitCovariance(n):\n",
    "    sigma = []\n",
    "    for m in range(n):\n",
    "        # randomly pick a direction\n",
    "        angle = np.random.uniform(0, 2 * np.pi)\n",
    "        # create eigen vector with the direction and direction orthogonal to it\n",
    "        eigenVector = np.asarray([[np.cos(angle), np.sin(angle)],\n",
    "                                  [np.cos(angle + np.pi/2), np.sin(angle + np.pi/2)]])\n",
    "        # randomly generate eigen values\n",
    "        eigenValue = abs(np.random.normal(size=2))\n",
    "        # compose covariance matrix\n",
    "        sigma.append(eigenVector.T.dot(np.diag(eigenValue).dot(eigenVector)))\n",
    "    # return in form of numpy.ndarray\n",
    "    return np.asarray(sigma)"
   ]
  },
  {
   "cell_type": "code",
   "execution_count": null,
   "metadata": {},
   "outputs": [],
   "source": []
  }
 ],
 "metadata": {
  "kernelspec": {
   "display_name": "Python 3",
   "language": "python",
   "name": "python3"
  },
  "language_info": {
   "codemirror_mode": {
    "name": "ipython",
    "version": 3
   },
   "file_extension": ".py",
   "mimetype": "text/x-python",
   "name": "python",
   "nbconvert_exporter": "python",
   "pygments_lexer": "ipython3",
   "version": "3.6.4"
  }
 },
 "nbformat": 4,
 "nbformat_minor": 2
}

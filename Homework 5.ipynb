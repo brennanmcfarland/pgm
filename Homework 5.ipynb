{
 "cells": [
  {
   "cell_type": "markdown",
   "metadata": {},
   "source": [
    "# Homework 5 - Independent Component Analysis"
   ]
  },
  {
   "cell_type": "markdown",
   "metadata": {},
   "source": [
    "Brennan McFarland  \n",
    "bfm21"
   ]
  },
  {
   "cell_type": "markdown",
   "metadata": {},
   "source": [
    "Exercise 1: Write a gradient-based algorithm to learn the independent components, i.e. the mixing matrix,\n",
    "given a matrix where the rows contain samples from different sources."
   ]
  },
  {
   "cell_type": "markdown",
   "metadata": {},
   "source": [
    "## Learning Independent Components"
   ]
  },
  {
   "cell_type": "markdown",
   "metadata": {},
   "source": [
    "## Synthetic Data"
   ]
  },
  {
   "cell_type": "markdown",
   "metadata": {},
   "source": [
    "### Loading the Data"
   ]
  },
  {
   "cell_type": "code",
   "execution_count": 1,
   "metadata": {},
   "outputs": [],
   "source": [
    "from scipy.io import wavfile\n",
    "\n",
    "srate, dataBach = wavfile.read('data/bach.wav')\n",
    "_, dataSpeech = wavfile.read('data/speech.wav')"
   ]
  },
  {
   "cell_type": "markdown",
   "metadata": {},
   "source": [
    "### Normalizing the Data"
   ]
  },
  {
   "cell_type": "code",
   "execution_count": 2,
   "metadata": {},
   "outputs": [],
   "source": [
    "import numpy as np\n",
    "\n",
    "def audionorm(data):\n",
    "    # ensure data is ndarray with float numbers\n",
    "    data = np.asarray(data).astype('float')\n",
    "    # calculate lower and upper bound\n",
    "    lbound, ubound = np.min(data), np.max(data)\n",
    "    if lbound == ubound:\n",
    "        offset = lbound\n",
    "        scalar = 1\n",
    "        data = np.zeros(size=data.shape)\n",
    "    else:\n",
    "        offset = (lbound + ubound) / 2\n",
    "        scalar = 1 / (ubound - lbound)\n",
    "        data = (data - offset) * scalar\n",
    "    # return normalized data\n",
    "    return data\n",
    "\n",
    "gtruthS = audionorm([dataBach, dataSpeech])"
   ]
  },
  {
   "cell_type": "markdown",
   "metadata": {},
   "source": [
    "### Mixing Audio"
   ]
  },
  {
   "cell_type": "code",
   "execution_count": 3,
   "metadata": {},
   "outputs": [],
   "source": [
    "def simpleMixer(S):\n",
    "    nchannel = S.shape[0]\n",
    "    # generate a random matrix\n",
    "    A = np.random.uniform(size = (nchannel,nchannel))\n",
    "    # generate mixed audio data\n",
    "    X = A.dot(S)\n",
    "    \n",
    "    return X, A"
   ]
  },
  {
   "cell_type": "code",
   "execution_count": 4,
   "metadata": {},
   "outputs": [],
   "source": [
    "%matplotlib inline\n",
    "\n",
    "import matplotlib.pyplot as plt\n",
    "\n",
    "def drawDataWithMixingMatrix(data, mat):\n",
    "    # plot data points\n",
    "    plt.scatter(data[0], data[1], s=1)\n",
    "    # calculate axis length\n",
    "    lenAxis = np.sqrt(np.sum(np.square(mat), axis=0))\n",
    "    # calculate scale for illustration\n",
    "    scale = np.min(np.max(np.abs(data), axis=1) / lenAxis.T)\n",
    "    # draw axis as arrow\n",
    "    plt.arrow(0, 0, scale * mat[0,0], scale * mat[1,0], shape='full', color='r')\n",
    "    plt.arrow(0, 0, scale * mat[0,1], scale * mat[1,1], shape='full', color='r')"
   ]
  },
  {
   "cell_type": "code",
   "execution_count": 5,
   "metadata": {},
   "outputs": [
    {
     "data": {
      "image/png": "[encoded data removed]",
      "text/plain": [
       "<Figure size 432x288 with 1 Axes>"
      ]
     },
     "metadata": {},
     "output_type": "display_data"
    }
   ],
   "source": [
    "X, gtruthA = simpleMixer(gtruthS)\n",
    "drawDataWithMixingMatrix(X, gtruthA)"
   ]
  },
  {
   "cell_type": "code",
   "execution_count": 6,
   "metadata": {},
   "outputs": [],
   "source": [
    "wavfile.write('data/mixedTrackA.wav', srate, X[0])\n",
    "wavfile.write('data/mixedTrackB.wav', srate, X[1])"
   ]
  },
  {
   "cell_type": "markdown",
   "metadata": {},
   "source": [
    "### Optimization Functions"
   ]
  },
  {
   "cell_type": "code",
   "execution_count": 7,
   "metadata": {},
   "outputs": [],
   "source": [
    "from bsslib import bss"
   ]
  },
  {
   "cell_type": "markdown",
   "metadata": {},
   "source": [
    "#### Verifying on Synthetic Data"
   ]
  },
  {
   "cell_type": "code",
   "execution_count": 11,
   "metadata": {},
   "outputs": [
    {
     "name": "stdout",
     "output_type": "stream",
     "text": [
      "<class 'numpy.ndarray'>\n",
      "<class 'numpy.ndarray'>\n"
     ]
    }
   ],
   "source": [
    "from bsslib import syntheticDataGenerate\n",
    "\n",
    "# quantity of data points\n",
    "nsamples = 10000\n",
    "# specific mixing matrix (for illustration purpose)\n",
    "verifyA = np.asarray([[-1, 1],[2, 2]])\n",
    "# generate synthetic data\n",
    "synthData = syntheticDataGenerate(verifyA, nsamples)\n",
    "# do optimization with bss function\n",
    "#estimateA, recoverData = bss(synthData)"
   ]
  },
  {
   "cell_type": "markdown",
   "metadata": {},
   "source": [
    "### Initializing the Mixture Model"
   ]
  },
  {
   "cell_type": "code",
   "execution_count": 9,
   "metadata": {},
   "outputs": [],
   "source": [
    "# randomly pick coordinates as center of Gaussian distribution\n",
    "def randinitMean(n, drange):\n",
    "    mu = []\n",
    "    for m in range(n):\n",
    "        mu.append([np.random.uniform(drange[i]['MIN'], drange[i]['MAX']) for i in range(len(drange))])\n",
    "    # return inf form of numpy.ndarray\n",
    "    return np.asarray(mu)\n",
    "\n",
    "def randOrthogonalMatrix(ndim):\n",
    "    ortmat = np.random.normal(size=[ndim,ndim])\n",
    "    for i in range(ndim):\n",
    "        # remove components exist in vector before\n",
    "        r = ortmat[:,i]\n",
    "        if i > 0:\n",
    "            b = ortmat[:,range(i)]\n",
    "            r = r - b.dot(b.T.dot(r))\n",
    "        # normalize current column\n",
    "        ortmat[:,i] = r / np.sqrt(r.T.dot(r))\n",
    "    return ortmat\n",
    "\n",
    "def randinitCovarianceND(n, ndim=2):\n",
    "    sigma = []\n",
    "    for m in range(n):\n",
    "        # create eigen vectors as an orthogonal matrix\n",
    "        eigenVector = randOrthogonalMatrix(ndim)\n",
    "        # randomly positive values as eigen value\n",
    "        eigenValue = abs(np.random.normal(size=ndim))\n",
    "        # compose covariance matrix\n",
    "        sigma.append(eigenVector.T.dot(np.diag(eigenValue).dot(eigenVector)))\n",
    "    return np.asarray(sigma)"
   ]
  },
  {
   "cell_type": "code",
   "execution_count": 10,
   "metadata": {},
   "outputs": [
    {
     "ename": "NameError",
     "evalue": "name 'data' is not defined",
     "output_type": "error",
     "traceback": [
      "\u001b[0;31m--------------------------------------------------------------------------\u001b[0m",
      "\u001b[0;31mNameError\u001b[0m                                Traceback (most recent call last)",
      "\u001b[0;32m<ipython-input-10-98393bbbc1ba>\u001b[0m in \u001b[0;36m<module>\u001b[0;34m()\u001b[0m\n\u001b[1;32m      4\u001b[0m \u001b[0;31m# get information of range on each dimension\u001b[0m\u001b[0;34m\u001b[0m\u001b[0;34m\u001b[0m\u001b[0m\n\u001b[1;32m      5\u001b[0m \u001b[0mdataRange\u001b[0m \u001b[0;34m=\u001b[0m \u001b[0;34m[\u001b[0m\u001b[0;34m]\u001b[0m\u001b[0;34m\u001b[0m\u001b[0m\n\u001b[0;32m----> 6\u001b[0;31m \u001b[0;32mfor\u001b[0m \u001b[0mi\u001b[0m \u001b[0;32min\u001b[0m \u001b[0mrange\u001b[0m\u001b[0;34m(\u001b[0m\u001b[0mdata\u001b[0m\u001b[0;34m.\u001b[0m\u001b[0mshape\u001b[0m\u001b[0;34m[\u001b[0m\u001b[0;36m1\u001b[0m\u001b[0;34m]\u001b[0m\u001b[0;34m)\u001b[0m\u001b[0;34m:\u001b[0m\u001b[0;34m\u001b[0m\u001b[0m\n\u001b[0m\u001b[1;32m      7\u001b[0m     \u001b[0mdataRange\u001b[0m\u001b[0;34m.\u001b[0m\u001b[0mappend\u001b[0m\u001b[0;34m(\u001b[0m\u001b[0;34m{\u001b[0m\u001b[0;34m'MIN'\u001b[0m\u001b[0;34m:\u001b[0m \u001b[0mmin\u001b[0m\u001b[0;34m(\u001b[0m\u001b[0mdata\u001b[0m\u001b[0;34m[\u001b[0m\u001b[0;34m:\u001b[0m\u001b[0;34m,\u001b[0m\u001b[0mi\u001b[0m\u001b[0;34m]\u001b[0m\u001b[0;34m)\u001b[0m\u001b[0;34m,\u001b[0m \u001b[0;34m'MAX'\u001b[0m\u001b[0;34m:\u001b[0m \u001b[0mmax\u001b[0m\u001b[0;34m(\u001b[0m\u001b[0mdata\u001b[0m\u001b[0;34m[\u001b[0m\u001b[0;34m:\u001b[0m\u001b[0;34m,\u001b[0m\u001b[0mi\u001b[0m\u001b[0;34m]\u001b[0m\u001b[0;34m)\u001b[0m\u001b[0;34m}\u001b[0m\u001b[0;34m)\u001b[0m\u001b[0;34m\u001b[0m\u001b[0m\n\u001b[1;32m      8\u001b[0m \u001b[0;34m\u001b[0m\u001b[0m\n",
      "\u001b[0;31mNameError\u001b[0m: name 'data' is not defined"
     ]
    }
   ],
   "source": [
    "ngmm = 2 # quantity of Gaussian Mixture Model\n",
    "ndim = 2 # TODO: not exactly sure what this does, find out?\n",
    "\n",
    "# get information of range on each dimension\n",
    "dataRange = []\n",
    "for i in range(data.shape[1]):\n",
    "    dataRange.append({'MIN': min(data[:,i]), 'MAX': max(data[:,i])})\n",
    "    \n",
    "mu = randinitMean(ngmm, dataRange)\n",
    "\n",
    "sigma = randinitCovarianceND(ngmm, ndim)\n",
    "def covmatIsLegal(sigma):\n",
    "    for covmat in sigma:\n",
    "        if not(np.allclose(covmat, covmat.T)) or np.any(np.linalg.eigvals(covmat) <= 0):\n",
    "            return False\n",
    "    return True\n",
    "\n",
    "print(\"Convariance Matrices are Legal? : %r\" % covmatIsLegal(sigma))\n",
    "gmm = [{'mean': mu[m], 'covariance': sigma[m], 'prior': 1.0/ngmm} for m in range(ngmm)]"
   ]
  },
  {
   "cell_type": "code",
   "execution_count": null,
   "metadata": {},
   "outputs": [],
   "source": [
    "import matplotlib.pyplot as plt\n",
    "from scipy.stats import chi2\n",
    "def plotGaussianModel2D(mu, sigma, pltopt='k'):\n",
    "    if sigma.any():\n",
    "        # calculate ellipse constants\n",
    "        c = chi2.ppf(0.9, 2) # use confidence interval 0.9\n",
    "        # get eigen vector and eigen values\n",
    "        eigenValue, eigenVector = np.linalg.eig(sigma)\n",
    "        # calculate points on ellipse\n",
    "        t = np.linspace(0, 2*np.pi, 100) # draw 100 points\n",
    "        u = [np.cos(t), np.sin(t)]\n",
    "        w = c * eigenVector.dot(np.diag(np.sqrt(eigenValue)).dot(u))\n",
    "        z = w.T + mu\n",
    "    else:\n",
    "        z = mu\n",
    "    # plot ellipse by connecting sample points on curve\n",
    "    plt.plot(z[:,0], z[:,1], pltopt)\n",
    "    \n",
    "def colorPicker(index):\n",
    "    colors = 'rgbcmyk'\n",
    "    return colors[np.remainder(index, len(colors))]\n",
    "\n",
    "def gmmplot(data, gmm):\n",
    "    # plot data points\n",
    "    plt.scatter(data[:, 0], data[:, 1], s=4)\n",
    "    # plot Gaussian model\n",
    "    color = 'rgb'\n",
    "    for index, model in enumerate(gmm):\n",
    "        plotGaussianModel2D(model['mean'], model['covariance'], colorPicker(index))\n",
    "\n",
    "gmmplot(dataBach, gmm)"
   ]
  },
  {
   "cell_type": "code",
   "execution_count": null,
   "metadata": {},
   "outputs": [],
   "source": []
  },
  {
   "cell_type": "code",
   "execution_count": null,
   "metadata": {},
   "outputs": [],
   "source": []
  }
 ],
 "metadata": {
  "kernelspec": {
   "display_name": "Python 3",
   "language": "python",
   "name": "python3"
  },
  "language_info": {
   "codemirror_mode": {
    "name": "ipython",
    "version": 3
   },
   "file_extension": ".py",
   "mimetype": "text/x-python",
   "name": "python",
   "nbconvert_exporter": "python",
   "pygments_lexer": "ipython3",
   "version": "3.6.4"
  }
 },
 "nbformat": 4,
 "nbformat_minor": 2
}

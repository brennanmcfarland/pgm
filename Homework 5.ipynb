{
 "cells": [
  {
   "cell_type": "markdown",
   "metadata": {},
   "source": [
    "# Homework 5 - Independent Component Analysis"
   ]
  },
  {
   "cell_type": "markdown",
   "metadata": {},
   "source": [
    "Brennan McFarland  \n",
    "bfm21"
   ]
  },
  {
   "cell_type": "markdown",
   "metadata": {},
   "source": [
    "Exercise 1: Write a gradient-based algorithm to learn the independent components, i.e. the mixing matrix,\n",
    "given a matrix where the rows contain samples from different sources."
   ]
  },
  {
   "cell_type": "markdown",
   "metadata": {},
   "source": [
    "## Learning Independent Components"
   ]
  },
  {
   "cell_type": "markdown",
   "metadata": {},
   "source": [
    "## Verifying on a Synthetic Mixture"
   ]
  },
  {
   "cell_type": "markdown",
   "metadata": {},
   "source": [
    "### Loading the Data"
   ]
  },
  {
   "cell_type": "code",
   "execution_count": 14,
   "metadata": {},
   "outputs": [],
   "source": [
    "import csv, numpy as np\n",
    "with open('data/testdata.txt', 'rt') as csvfile:\n",
    "    dataReader = csv.reader(csvfile, delimiter=' ')\n",
    "    # initialize an empty array\n",
    "    data = []\n",
    "    for row in dataReader:\n",
    "        data.append(np.array(row).astype(np.float))\n",
    "    # convert data into a numpy array\n",
    "    data = np.asarray(data)"
   ]
  },
  {
   "cell_type": "markdown",
   "metadata": {},
   "source": [
    "### Initializing the Mixture Model"
   ]
  },
  {
   "cell_type": "code",
   "execution_count": 15,
   "metadata": {},
   "outputs": [],
   "source": [
    "# randomly pick coordinates as center of Gaussian distribution\n",
    "def randinitMean(n, drange):\n",
    "    mu = []\n",
    "    for m in range(n):\n",
    "        mu.append([np.random.uniform(drange[i]['MIN'], drange[i]['MAX']) for i in range(len(drange))])\n",
    "    # return inf form of numpy.ndarray\n",
    "    return np.asarray(mu)\n",
    "\n",
    "def randOrthogonalMatrix(ndim):\n",
    "    ortmat = np.random.normal(size=[ndim,ndim])\n",
    "    for i in range(ndim):\n",
    "        # remove components exist in vector before\n",
    "        r = ortmat[:,i]\n",
    "        if i > 0:\n",
    "            b = ortmat[:,range(i)]\n",
    "            r = r - b.dot(b.T.dot(r))\n",
    "        # normalize current column\n",
    "        ortmat[:,i] = r / np.sqrt(r.T.dot(r))\n",
    "    return ortmat\n",
    "\n",
    "def randinitCovarianceND(n, ndim=2):\n",
    "    sigma = []\n",
    "    for m in range(n):\n",
    "        # create eigen vectors as an orthogonal matrix\n",
    "        eigenVector = randOrthogonalMatrix(ndim)\n",
    "        # randomly positive values as eigen value\n",
    "        eigenValue = abs(np.random.normal(size=ndim))\n",
    "        # compose covariance matrix\n",
    "        sigma.append(eigenVector.T.dot(np.diag(eigenValue).dot(eigenVector)))\n",
    "    return np.asarray(sigma)"
   ]
  },
  {
   "cell_type": "code",
   "execution_count": 16,
   "metadata": {},
   "outputs": [
    {
     "name": "stdout",
     "output_type": "stream",
     "text": [
      "Convariance Matrices are Legal? : True\n"
     ]
    }
   ],
   "source": [
    "ngmm = 2 # quantity of Gaussian Mixture Model\n",
    "ndim = 2 # TODO: not exactly sure what this does, find out?\n",
    "\n",
    "# get information of range on each dimension\n",
    "dataRange = []\n",
    "for i in range(data.shape[1]):\n",
    "    dataRange.append({'MIN': min(data[:,i]), 'MAX': max(data[:,i])})\n",
    "    \n",
    "mu = randinitMean(ngmm, dataRange)\n",
    "\n",
    "sigma = randinitCovarianceND(ngmm, ndim)\n",
    "def covmatIsLegal(sigma):\n",
    "    for covmat in sigma:\n",
    "        if not(np.allclose(covmat, covmat.T)) or np.any(np.linalg.eigvals(covmat) <= 0):\n",
    "            return False\n",
    "    return True\n",
    "\n",
    "print(\"Convariance Matrices are Legal? : %r\" % covmatIsLegal(sigma))\n",
    "gmm = [{'mean': mu[m], 'covariance': sigma[m], 'prior': 1.0/ngmm} for m in range(ngmm)]"
   ]
  },
  {
   "cell_type": "code",
   "execution_count": 17,
   "metadata": {},
   "outputs": [
    {
     "data": {
      "image/png": "[encoded data removed]",
      "text/plain": [
       "<Figure size 432x288 with 1 Axes>"
      ]
     },
     "metadata": {},
     "output_type": "display_data"
    }
   ],
   "source": [
    "import matplotlib.pyplot as plt\n",
    "from scipy.stats import chi2\n",
    "def plotGaussianModel2D(mu, sigma, pltopt='k'):\n",
    "    if sigma.any():\n",
    "        # calculate ellipse constants\n",
    "        c = chi2.ppf(0.9, 2) # use confidence interval 0.9\n",
    "        # get eigen vector and eigen values\n",
    "        eigenValue, eigenVector = np.linalg.eig(sigma)\n",
    "        # calculate points on ellipse\n",
    "        t = np.linspace(0, 2*np.pi, 100) # draw 100 points\n",
    "        u = [np.cos(t), np.sin(t)]\n",
    "        w = c * eigenVector.dot(np.diag(np.sqrt(eigenValue)).dot(u))\n",
    "        z = w.T + mu\n",
    "    else:\n",
    "        z = mu\n",
    "    # plot ellipse by connecting sample points on curve\n",
    "    plt.plot(z[:,0], z[:,1], pltopt)\n",
    "    \n",
    "def colorPicker(index):\n",
    "    colors = 'rgbcmyk'\n",
    "    return colors[np.remainder(index, len(colors))]\n",
    "\n",
    "def gmmplot(data, gmm):\n",
    "    # plot data points\n",
    "    plt.scatter(data[:, 0], data[:, 1], s=4)\n",
    "    # plot Gaussian model\n",
    "    color = 'rgb'\n",
    "    for index, model in enumerate(gmm):\n",
    "        plotGaussianModel2D(model['mean'], model['covariance'], colorPicker(index))\n",
    "\n",
    "gmmplot(data, gmm)"
   ]
  },
  {
   "cell_type": "code",
   "execution_count": null,
   "metadata": {},
   "outputs": [],
   "source": []
  },
  {
   "cell_type": "code",
   "execution_count": null,
   "metadata": {},
   "outputs": [],
   "source": []
  }
 ],
 "metadata": {
  "kernelspec": {
   "display_name": "Python 3",
   "language": "python",
   "name": "python3"
  },
  "language_info": {
   "codemirror_mode": {
    "name": "ipython",
    "version": 3
   },
   "file_extension": ".py",
   "mimetype": "text/x-python",
   "name": "python",
   "nbconvert_exporter": "python",
   "pygments_lexer": "ipython3",
   "version": "3.6.4"
  }
 },
 "nbformat": 4,
 "nbformat_minor": 2
}

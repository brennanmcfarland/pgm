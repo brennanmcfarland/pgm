{
 "cells": [
  {
   "cell_type": "markdown",
   "metadata": {},
   "source": [
    "# Problem Description"
   ]
  },
  {
   "cell_type": "markdown",
   "metadata": {},
   "source": [
    "A spam filter attempts to flag messages as spam based on the number of \"target words\", ie, the number of words likely to appear only in a spam message, it contains.  Based on the number of these target words it finds in a given message, it attempts to estimate the probability that the message is spam using Bayes Rule.  To do this, however, the filter must have an estimate of the probability of a given number of target words given whether the message is spam.  Estimating this probability for all numbers of target words is the problem."
   ]
  },
  {
   "cell_type": "markdown",
   "metadata": {},
   "source": [
    "# Random Variables"
   ]
  },
  {
   "cell_type": "markdown",
   "metadata": {},
   "source": [
    "W represents the number of target words in the message  \n",
    "    W is a multi-value variable defined for all positive integers  \n",
    "S represents whether the message is spam  \n",
    "    S is a binary variable  "
   ]
  },
  {
   "cell_type": "markdown",
   "metadata": {},
   "source": [
    "# Probabilities"
   ]
  },
  {
   "cell_type": "markdown",
   "metadata": {},
   "source": [
    "We want P(W|S), the posterior and hidden representation, the probability of a given number of target words given whether the message is spam.  \n",
    "P(S|W) is our likelihood, the probability of a given message being spam given a certain number of target words.  \n",
    "P(W) is our prior, the probability of a given number of target words in any given message.\n",
    "P(S) is our normalizing constant, the probability that any given message is spam."
   ]
  },
  {
   "cell_type": "markdown",
   "metadata": {},
   "source": [
    "# Values"
   ]
  },
  {
   "cell_type": "code",
   "execution_count": 4,
   "metadata": {
    "scrolled": true
   },
   "outputs": [
    {
     "name": "stdout",
     "output_type": "stream",
     "text": [
      "Suppose P(S)= 0.3\n",
      "Suppose P(S|W)=1-1/(W+1).  This way, the probability the message is spam increases with the number of target words found and is in [0,1]\n",
      "Let P(W) follow the normal distribution with a mean of  10  and variance  5\n"
     ]
    },
    {
     "data": {
      "image/png": "[encoded data removed]",
      "text/plain": [
       "<matplotlib.figure.Figure at 0x7f9d540e0ba8>"
      ]
     },
     "metadata": {},
     "output_type": "display_data"
    }
   ],
   "source": [
    "import numpy as np\n",
    "import matplotlib.pyplot as plt\n",
    "\n",
    "\n",
    "p_s = .3\n",
    "print(\"Suppose P(S)=\", p_s)\n",
    "\n",
    "def p_s_given_w(w):\n",
    "    return 1.0-1.0/(w+1)\n",
    "print(\"Suppose P(S|W)=1-1/(W+1).  This way, the probability the message is spam increases with the number of target \\\n",
    "words found and is in [0,1]\")\n",
    "\n",
    "\n",
    "mu = 10.0\n",
    "sigma_squared = 5.0\n",
    "# TODO: fix this\n",
    "def p_w(w):\n",
    "    return np.exp(-(w - mu)**2 / (2 * sigma_squared)) / np.sqrt(2 * np.pi * sigma_squared)\n",
    "print(\"Let P(W) follow the normal distribution with a mean of \", int(mu), \" and variance \", int(sigma_squared))\n",
    "pltrg = 3 # plot range\n",
    "x = np.linspace(mu - pltrg, mu + pltrg, 100)\n",
    "plt.plot(x, p_w(x))\n",
    "plt.grid()\n",
    "plt.show()"
   ]
  },
  {
   "cell_type": "markdown",
   "metadata": {},
   "source": [
    "In this way, for each value of W a random datum on \\[0,1\\] is generated from the normal distribution for P(W), which in combination with the likelihood and normalizing constant yields our posterior distribution."
   ]
  },
  {
   "cell_type": "markdown",
   "metadata": {},
   "source": [
    "# Generative Process"
   ]
  },
  {
   "cell_type": "markdown",
   "metadata": {},
   "source": [
    "# Calculating the Posterior"
   ]
  },
  {
   "cell_type": "markdown",
   "metadata": {},
   "source": [
    "Calculating the posterior, P(W|S), is a simple application of Bayes rule:  \n",
    "P(W|S)=P(S|W)P(W)/P(S)"
   ]
  },
  {
   "cell_type": "markdown",
   "metadata": {},
   "source": [
    "# Example Data"
   ]
  },
  {
   "cell_type": "markdown",
   "metadata": {},
   "source": [
    "Suppose we want to calculate the values of P(W|S) for W=3, 4, 5, 0, and 16 (the last two to test edge cases).  A simple application of Bayes rule yields:"
   ]
  },
  {
   "cell_type": "code",
   "execution_count": 20,
   "metadata": {},
   "outputs": [
    {
     "name": "stdout",
     "output_type": "stream",
     "text": [
      "for W = 0\n",
      "P(W|S)=P(S|W)P(W)/P(S)\n",
      "= ( 0.0 )( 8.09991095609e-06 )/( 0.3 )\n",
      "=  0.0\n",
      "for W = 3\n",
      "P(W|S)=P(S|W)P(W)/P(S)\n",
      "= ( 0.75 )( 0.00132856284398 )/( 0.3 )\n",
      "=  0.00332140710994\n",
      "for W = 4\n",
      "P(W|S)=P(S|W)P(W)/P(S)\n",
      "= ( 0.8 )( 0.00487489121613 )/( 0.3 )\n",
      "=  0.0129997099097\n",
      "for W = 5\n",
      "P(W|S)=P(S|W)P(W)/P(S)\n",
      "= ( 0.8333333333333334 )( 0.0146449825619 )/( 0.3 )\n",
      "=  0.0406805071165\n",
      "for W = 16\n",
      "P(W|S)=P(S|W)P(W)/P(S)\n",
      "= ( 0.9411764705882353 )( 0.00487489121613 )/( 0.3 )\n",
      "=  0.0152937763643\n"
     ]
    }
   ],
   "source": [
    "def p_w_given_s(w):\n",
    "    print(\"for W =\", w)\n",
    "    print(\"P(W|S)=P(S|W)P(W)/P(S)\")\n",
    "    print(\"= (\", p_s_given_w(w), \")(\", p_w(w), \")/(\",p_s, \")\")\n",
    "    print(\"= \", p_s_given_w(w)*p_w(w)/p_s)\n",
    "\n",
    "\n",
    "p_w_given_s(0)\n",
    "p_w_given_s(3)\n",
    "p_w_given_s(4)\n",
    "p_w_given_s(5)\n",
    "p_w_given_s(16)"
   ]
  },
  {
   "cell_type": "markdown",
   "metadata": {},
   "source": [
    "But we can get more accurate results by taking the average of multiple samples for P(W), since it is randomly distributed:"
   ]
  },
  {
   "cell_type": "code",
   "execution_count": 21,
   "metadata": {},
   "outputs": [
    {
     "name": "stdout",
     "output_type": "stream",
     "text": [
      "for W = 0\n",
      "P(W|S)=P(S|W)P(W)/P(S)\n",
      "= ( 0.0 )( 8.09991095609e-06 )/( 0.3 )\n",
      "=  0.0\n",
      "for W = 3\n",
      "P(W|S)=P(S|W)P(W)/P(S)\n",
      "= ( 0.75 )( 0.00132856284398 )/( 0.3 )\n",
      "=  0.00332140710994\n",
      "for W = 4\n",
      "P(W|S)=P(S|W)P(W)/P(S)\n",
      "= ( 0.8 )( 0.00487489121613 )/( 0.3 )\n",
      "=  0.0129997099097\n",
      "for W = 5\n",
      "P(W|S)=P(S|W)P(W)/P(S)\n",
      "= ( 0.8333333333333334 )( 0.0146449825619 )/( 0.3 )\n",
      "=  0.0406805071165\n",
      "for W = 16\n",
      "P(W|S)=P(S|W)P(W)/P(S)\n",
      "= ( 0.9411764705882353 )( 0.00487489121613 )/( 0.3 )\n",
      "=  0.0152937763643\n"
     ]
    }
   ],
   "source": [
    "def average_p_w_given_s(w):\n",
    "    average_p_w = (p_w(w) + p_w(w) + p_w(w))/3.0\n",
    "    print(\"for W =\", w)\n",
    "    print(\"P(W|S)=P(S|W)P(W)/P(S)\")\n",
    "    print(\"= (\", p_s_given_w(w), \")(\", average_p_w, \")/(\",p_s, \")\")\n",
    "    print(\"= \", p_s_given_w(w)*average_p_w/p_s)\n",
    "\n",
    "\n",
    "average_p_w_given_s(0)\n",
    "average_p_w_given_s(3)\n",
    "average_p_w_given_s(4)\n",
    "average_p_w_given_s(5)\n",
    "average_p_w_given_s(16)"
   ]
  },
  {
   "cell_type": "code",
   "execution_count": null,
   "metadata": {},
   "outputs": [],
   "source": []
  }
 ],
 "metadata": {
  "kernelspec": {
   "display_name": "Python 3",
   "language": "python",
   "name": "python3"
  },
  "language_info": {
   "codemirror_mode": {
    "name": "ipython",
    "version": 3
   },
   "file_extension": ".py",
   "mimetype": "text/x-python",
   "name": "python",
   "nbconvert_exporter": "python",
   "pygments_lexer": "ipython3",
   "version": "3.5.3"
  }
 },
 "nbformat": 4,
 "nbformat_minor": 2
}

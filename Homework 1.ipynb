{
 "cells": [
  {
   "cell_type": "markdown",
   "metadata": {},
   "source": [
    "# Problem Description"
   ]
  },
  {
   "cell_type": "markdown",
   "metadata": {},
   "source": [
    "A spam filter attempts to flag messages as spam based on the number of \"target words\", ie, the number of words likely to appear only in a spam message, it contains.  Based on the number of these target words it finds in a given message, it attempts to estimate the probability that the message is spam using Bayes Rule.  To do this, however, the filter must have an estimate of the probability of a given number of target words given whether the message is spam.  Estimating this probability for all numbers of target words is the problem."
   ]
  },
  {
   "cell_type": "markdown",
   "metadata": {},
   "source": [
    "# Random Variables"
   ]
  },
  {
   "cell_type": "markdown",
   "metadata": {},
   "source": [
    "W represents the number of target words in the message  \n",
    "    W is a multi-value variable defined for all positive integers  \n",
    "S represents whether the message is spam  \n",
    "    S is a binary variable  "
   ]
  },
  {
   "cell_type": "markdown",
   "metadata": {},
   "source": [
    "# Probabilities"
   ]
  },
  {
   "cell_type": "markdown",
   "metadata": {},
   "source": [
    "We want P(W|S), the posterior and hidden representation, the probability of a given number of target words given whether the message is spam.  \n",
    "P(S|W) is our likelihood, the probability of a given message being spam given a certain number of target words.  \n",
    "P(W) is our prior, the probability of a given number of target words in any given message.\n",
    "P(S) is our normalizing constant, the probability that any given message is spam."
   ]
  },
  {
   "cell_type": "code",
   "execution_count": 5,
   "metadata": {},
   "outputs": [
    {
     "name": "stdout",
     "output_type": "stream",
     "text": [
      "We want P(W|S)\n",
      "Let's suppose we already know P(S)=0.3\n"
     ]
    }
   ],
   "source": [
    "p_s = .3\n",
    "print('We want P(W|S)')\n",
    "print('Let\\'s suppose we already know P(S)=' + str(p_s))"
   ]
  },
  {
   "cell_type": "markdown",
   "metadata": {},
   "source": [
    "# Values"
   ]
  },
  {
   "cell_type": "code",
   "execution_count": 16,
   "metadata": {},
   "outputs": [
    {
     "name": "stdout",
     "output_type": "stream",
     "text": [
      "Suppose P(S)= 0.3\n",
      "Suppose P(S|W)=1-1/(W+1).  This way, the probability the message is spam increases with the number of target words found and is in [0,1]\n",
      "Let P(W) follow the normal distribution with a mean of  10.0  and variance  5.0\n"
     ]
    }
   ],
   "source": [
    "import numpy as np\n",
    "\n",
    "\n",
    "p_s = .3\n",
    "print(\"Suppose P(S)=\", p_s)\n",
    "\n",
    "def p_s_given_w(w):\n",
    "    return 1.0-1.0/(w+1)\n",
    "print(\"Suppose P(S|W)=1-1/(W+1).  This way, the probability the message is spam increases with the number of target \\\n",
    "words found and is in [0,1]\")\n",
    "\n",
    "\n",
    "mu = 10.0\n",
    "sigma_squared = 5.0\n",
    "def p_w(w):\n",
    "    return np.exp(-(w - mu)**2 / (2 * sigma_squared)) / np.sqrt(2 * np.pi * sigma_squared)\n",
    "print(\"Let P(W) follow the normal distribution with a mean of \", mu, \" and variance \", sigma_squared)\n",
    "    "
   ]
  },
  {
   "cell_type": "markdown",
   "metadata": {},
   "source": [
    "# Generative Process"
   ]
  },
  {
   "cell_type": "markdown",
   "metadata": {},
   "source": [
    "# Example Data"
   ]
  },
  {
   "cell_type": "code",
   "execution_count": null,
   "metadata": {},
   "outputs": [],
   "source": []
  }
 ],
 "metadata": {
  "kernelspec": {
   "display_name": "Python 3",
   "language": "python",
   "name": "python3"
  },
  "language_info": {
   "codemirror_mode": {
    "name": "ipython",
    "version": 3
   },
   "file_extension": ".py",
   "mimetype": "text/x-python",
   "name": "python",
   "nbconvert_exporter": "python",
   "pygments_lexer": "ipython3",
   "version": "3.5.3"
  }
 },
 "nbformat": 4,
 "nbformat_minor": 2
}

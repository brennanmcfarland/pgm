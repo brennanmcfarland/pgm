{
 "cells": [
  {
   "cell_type": "markdown",
   "metadata": {},
   "source": [
    "# Homework 1 - Spam Filter Learning Algorithm"
   ]
  },
  {
   "cell_type": "markdown",
   "metadata": {},
   "source": [
    "Brennan McFarland  \n",
    "bfm21"
   ]
  },
  {
   "cell_type": "markdown",
   "metadata": {},
   "source": [
    "# Problem Description"
   ]
  },
  {
   "cell_type": "markdown",
   "metadata": {},
   "source": [
    "A spam filter attempts to flag messages as spam based on the number of \"target words\", ie, the number of words likely to appear only in a spam message, it contains.  Based on the number of these target words it finds in a given message, it attempts to estimate the probability that the message is spam using Bayes Rule.  To do this, however, the filter must have an estimate of the probability of a given number of target words given whether the message is spam.  Estimating this probability for all numbers of target words is the problem."
   ]
  },
  {
   "cell_type": "markdown",
   "metadata": {},
   "source": [
    "# Random Variables"
   ]
  },
  {
   "cell_type": "markdown",
   "metadata": {},
   "source": [
    "W represents the number of target words in the message  \n",
    "    W is a multi-value variable defined for all positive integers  \n",
    "S represents whether the message is spam  \n",
    "    S is a binary variable  "
   ]
  },
  {
   "cell_type": "markdown",
   "metadata": {},
   "source": [
    "# Probabilities"
   ]
  },
  {
   "cell_type": "markdown",
   "metadata": {},
   "source": [
    "We want P(W|S), the posterior and hidden representation, the probability of a given number of target words given whether the message is spam.  \n",
    "P(S|W) is our likelihood, the probability of a given message being spam given a certain number of target words.  \n",
    "P(W) is our prior, the probability of a given number of target words in any given message.\n",
    "P(S) is our normalizing constant, the probability that any given message is spam."
   ]
  },
  {
   "cell_type": "markdown",
   "metadata": {},
   "source": [
    "# Values"
   ]
  },
  {
   "cell_type": "code",
   "execution_count": 88,
   "metadata": {
    "scrolled": false
   },
   "outputs": [
    {
     "name": "stdout",
     "output_type": "stream",
     "text": [
      "Suppose P(S)= 0.3\n",
      "Suppose P(S|W)=1-1/(W+1).  This way, the probability the message is spam increases with the number of target words found and is in [0,1]\n"
     ]
    },
    {
     "data": {
      "image/png": "[encoded data removed]",
      "text/plain": [
       "<matplotlib.figure.Figure at 0x7f05735a0908>"
      ]
     },
     "metadata": {},
     "output_type": "display_data"
    },
    {
     "name": "stdout",
     "output_type": "stream",
     "text": [
      "Let P(W) follow the binomial distribution with n= 10 and p= 0.6 .  Setting n to this value means that we are unlikely to find messages with more than 10 spam words to the point that the probability is rounded off to 0.  Also seeing as W represents the number of spam words it would not make sense to have it less than 0.\n"
     ]
    },
    {
     "data": {
      "image/png": "[encoded data removed]",
      "text/plain": [
       "<matplotlib.figure.Figure at 0x7f0573768d68>"
      ]
     },
     "metadata": {},
     "output_type": "display_data"
    }
   ],
   "source": [
    "import numpy as np\n",
    "import matplotlib.pyplot as plt\n",
    "import math\n",
    "\n",
    "\n",
    "p_s = .3\n",
    "print(\"Suppose P(S)=\", p_s)\n",
    "\n",
    "# this is just a helper function so plotting a function isn't so repetitive\n",
    "def plot_function(x, function):\n",
    "    y = [function(i) for i in x]\n",
    "    plt.bar(x, y)\n",
    "    plt.grid()\n",
    "    plt.show()\n",
    "\n",
    "def p_s_given_w(w):\n",
    "    return 1.0-1.0/(w+1)\n",
    "print(\"Suppose P(S|W)=1-1/(W+1).  This way, the probability the message is spam increases with the number of target \\\n",
    "words found and is in [0,1]\")\n",
    "plot_function(range(0, 10), p_s_given_w)\n",
    "\n",
    "\n",
    "n = 10\n",
    "p = .6\n",
    "def p_w(w):\n",
    "    if(w < 0 or w > n):\n",
    "       return 0\n",
    "    return float(math.factorial(n))/float(math.factorial(n-w)*math.factorial(w))*(p**w)*((1-p)**(n-w))\n",
    "print(\"Let P(W) follow the binomial distribution with n=\", n, \"and p=\", p, \".  Setting n to this value means that we are \\\n",
    "unlikely to find messages with more than\", n, \"spam words to the point that the probability is rounded off to 0.  Also \\\n",
    "seeing as W represents the number of spam words it would not make sense to have it less than 0.\")\n",
    "plot_function(range(0, n), p_w)"
   ]
  },
  {
   "cell_type": "markdown",
   "metadata": {},
   "source": [
    "In this way, for each value of W a random datum on \\[0,1\\] is generated from the normal distribution for P(W), which in combination with the likelihood and normalizing constant yields our posterior distribution.  Consider these distributions for P(W) and P(S|W) the \"generative process\"."
   ]
  },
  {
   "cell_type": "markdown",
   "metadata": {},
   "source": [
    "# Calculating the Posterior"
   ]
  },
  {
   "cell_type": "markdown",
   "metadata": {},
   "source": [
    "Calculating the posterior, P(W|S), is a simple application of Bayes rule:  \n",
    "P(W|S)=P(S|W)P(W)/P(S)"
   ]
  },
  {
   "cell_type": "markdown",
   "metadata": {},
   "source": [
    "# Example Data"
   ]
  },
  {
   "cell_type": "markdown",
   "metadata": {},
   "source": [
    "Suppose we want to calculate the values of P(W|S) for W=3, 4, 5, 0, and 16 (the last two to test edge cases).  A simple application of Bayes rule yields:"
   ]
  },
  {
   "cell_type": "code",
   "execution_count": 53,
   "metadata": {
    "scrolled": false
   },
   "outputs": [
    {
     "name": "stdout",
     "output_type": "stream",
     "text": [
      "for W = 0\n",
      "P(W|S)=P(S|W)P(W)/P(S)\n",
      "= ( 0.0 )( 0.00010485760000000006 )/( 0.3 )\n",
      "=  0.0\n",
      "for W = 3\n",
      "P(W|S)=P(S|W)P(W)/P(S)\n",
      "= ( 0.75 )( 0.042467328000000006 )/( 0.3 )\n",
      "=  0.10616832000000002\n",
      "for W = 4\n",
      "P(W|S)=P(S|W)P(W)/P(S)\n",
      "= ( 0.8 )( 0.11147673600000003 )/( 0.3 )\n",
      "=  0.29727129600000013\n",
      "for W = 5\n",
      "P(W|S)=P(S|W)P(W)/P(S)\n",
      "= ( 0.8333333333333334 )( 0.20065812480000003 )/( 0.3 )\n",
      "=  0.5573836800000002\n",
      "for W = 16\n",
      "P(W|S)=P(S|W)P(W)/P(S)\n",
      "= ( 0.9411764705882353 )( 0 )/( 0.3 )\n",
      "=  0.0\n"
     ]
    }
   ],
   "source": [
    "def p_w_given_s(w):\n",
    "    return p_s_given_w(w)*p_w(w)/p_s\n",
    "\n",
    "\n",
    "def display_p_w_given_s(w):\n",
    "    print(\"for W =\", w)\n",
    "    print(\"P(W|S)=P(S|W)P(W)/P(S)\")\n",
    "    print(\"= (\", p_s_given_w(w), \")(\", p_w(w), \")/(\",p_s, \")\")\n",
    "    print(\"= \", p_w_given_s(w))\n",
    "\n",
    "\n",
    "display_p_w_given_s(0)\n",
    "display_p_w_given_s(3)\n",
    "display_p_w_given_s(4)\n",
    "display_p_w_given_s(5)\n",
    "display_p_w_given_s(16)"
   ]
  },
  {
   "cell_type": "markdown",
   "metadata": {},
   "source": [
    "Calculating the posterior for the entire distribution of P(W) is visualized in the graph below.  Note that the probabilities do not sum to 1 because this is a conditional distribution on S:"
   ]
  },
  {
   "cell_type": "code",
   "execution_count": 91,
   "metadata": {},
   "outputs": [
    {
     "data": {
      "image/png": "[encoded data removed]",
      "text/plain": [
       "<matplotlib.figure.Figure at 0x7f05736099e8>"
      ]
     },
     "metadata": {},
     "output_type": "display_data"
    }
   ],
   "source": [
    "plot_function(range(0, n), p_w_given_s)"
   ]
  },
  {
   "cell_type": "markdown",
   "metadata": {},
   "source": [
    "# Repeated Sampling"
   ]
  },
  {
   "cell_type": "markdown",
   "metadata": {},
   "source": [
    "Now let us suppose we do not know P(S|W) or P(W) offhand.  For any W, we can take samples of these values to get an estimate of our posterior:"
   ]
  },
  {
   "cell_type": "code",
   "execution_count": 97,
   "metadata": {},
   "outputs": [
    {
     "name": "stdout",
     "output_type": "stream",
     "text": [
      "Here we use 10 samples.\n",
      "for W = 0\n",
      "P(W|S)=P(S|W)P(W)/P(S)\n",
      "= ( 0.0 )( 0.0 )/( 0.3 )\n",
      "=  0.0\n",
      "This is an error of 0.0 from the true value of 0.0\n",
      "for W = 3\n",
      "P(W|S)=P(S|W)P(W)/P(S)\n",
      "= ( 0.7 )( 0.0 )/( 0.3 )\n",
      "=  0.233333333333\n",
      "This is an error of 0.127165013333 from the true value of 0.10616832000000002\n",
      "for W = 4\n",
      "P(W|S)=P(S|W)P(W)/P(S)\n",
      "= ( 0.8 )( 0.1 )/( 0.3 )\n",
      "=  0.266666666667\n",
      "This is an error of 0.0306046293333 from the true value of 0.29727129600000013\n",
      "for W = 5\n",
      "P(W|S)=P(S|W)P(W)/P(S)\n",
      "= ( 0.7 )( 0.1 )/( 0.3 )\n",
      "=  0.233333333333\n",
      "This is an error of 0.324050346667 from the true value of 0.5573836800000002\n",
      "for W = 16\n",
      "P(W|S)=P(S|W)P(W)/P(S)\n",
      "= ( 0.9 )( 0.0 )/( 0.3 )\n",
      "=  0.0\n",
      "This is an error of 0.0 from the true value of 0.0\n"
     ]
    },
    {
     "data": {
      "image/png": "[encoded data removed]",
      "text/plain": [
       "<matplotlib.figure.Figure at 0x7f0578160d30>"
      ]
     },
     "metadata": {},
     "output_type": "display_data"
    }
   ],
   "source": [
    "import random\n",
    "\n",
    "# this is just a helper function to plot multiple functions at once\n",
    "def plot_functions(x, function1, function2):\n",
    "    plt.bar(x, [function1(i) for i in x])\n",
    "    plt.bar(x, [function2(i) for i in x], alpha=.5)\n",
    "    plt.grid()\n",
    "    plt.show()\n",
    "\n",
    "\n",
    "def sample_probability(p):\n",
    "    return 1 if random.uniform(0, 1) < p else 0\n",
    "\n",
    "\n",
    "samples = 10\n",
    "print(\"Here we use\", samples, \"samples.\")\n",
    "def sample_p_s_given_w(w):\n",
    "    return np.mean([sample_probability(p_s_given_w(w)) for i in range(0, samples)])\n",
    "\n",
    "\n",
    "def sample_p_w(w):\n",
    "    return np.mean([sample_probability(p_w(w)) for i in range(0, samples)])\n",
    "\n",
    "\n",
    "def sample_p_w_given_s(w):\n",
    "    return sample_p_s_given_w(w)*sample_p_w(w)/p_s\n",
    "\n",
    "\n",
    "def display_sampled_p_w_given_s(w):\n",
    "    print(\"for W =\", w)\n",
    "    print(\"P(W|S)=P(S|W)P(W)/P(S)\")\n",
    "    p_s_given_w_sample = sample_p_s_given_w(w)\n",
    "    p_w_sample = sample_p_w(w)\n",
    "    print(\"= (\", p_s_given_w_sample, \")(\", p_w_sample, \")/(\",p_s, \")\")\n",
    "    p_w_given_s_sample = sample_p_w_given_s(w)\n",
    "    print(\"= \", p_w_given_s_sample)\n",
    "    print(\"This is an error of\", abs(p_w_given_s_sample-p_w_given_s(w)), \"from the true value of\", p_w_given_s(w))\n",
    "\n",
    "    \n",
    "display_sampled_p_w_given_s(0)\n",
    "display_sampled_p_w_given_s(3)\n",
    "display_sampled_p_w_given_s(4)\n",
    "display_sampled_p_w_given_s(5)\n",
    "display_sampled_p_w_given_s(16)\n",
    "\n",
    "plot_functions(range(0, n), sample_p_w_given_s, p_w_given_s)\n"
   ]
  },
  {
   "cell_type": "markdown",
   "metadata": {},
   "source": [
    "The estimated values are in blue, with the actual values in orange for reference.  Note that with so few samples, the distribution is off by a good margin and returns some probabilities larger than 1 due to error.  We can improve the process by taking more samples, and as is illustrated graphically below our distribution converges towards the exact distribution graphed earlier:"
   ]
  },
  {
   "cell_type": "code",
   "execution_count": 95,
   "metadata": {},
   "outputs": [
    {
     "name": "stdout",
     "output_type": "stream",
     "text": [
      "Here we use 60 samples.\n"
     ]
    },
    {
     "data": {
      "image/png": "[encoded data removed]",
      "text/plain": [
       "<matplotlib.figure.Figure at 0x7f05780acb38>"
      ]
     },
     "metadata": {},
     "output_type": "display_data"
    }
   ],
   "source": [
    "samples = 60\n",
    "print(\"Here we use\", samples, \"samples.\")\n",
    "plot_functions(range(0, n), sample_p_w_given_s, p_w_given_s)"
   ]
  },
  {
   "cell_type": "markdown",
   "metadata": {},
   "source": [
    "We can also evaluate the accuracy of our spam filter's spam message target word probability by plotting the error of our sampling as we increase the number of samples:"
   ]
  },
  {
   "cell_type": "code",
   "execution_count": 113,
   "metadata": {},
   "outputs": [
    {
     "name": "stderr",
     "output_type": "stream",
     "text": [
      "/usr/lib/python3/dist-packages/numpy/core/fromnumeric.py:2889: RuntimeWarning: Mean of empty slice.\n",
      "  out=out, **kwargs)\n",
      "/usr/lib/python3/dist-packages/numpy/core/_methods.py:80: RuntimeWarning: invalid value encountered in double_scalars\n",
      "  ret = ret.dtype.type(ret / rcount)\n"
     ]
    },
    {
     "data": {
      "image/png": "[encoded data removed]",
      "text/plain": [
       "<matplotlib.figure.Figure at 0x7f05733e8390>"
      ]
     },
     "metadata": {},
     "output_type": "display_data"
    }
   ],
   "source": [
    "max_samples = 200\n",
    "x = range(0, max_samples)\n",
    "y = []\n",
    "for w in range(0, n):\n",
    "    y.append([])\n",
    "samples = 0\n",
    "for i in range(0, max_samples):\n",
    "    for w in range(len(y)):\n",
    "        y[w].append(abs(sample_p_w_given_s(w)-p_w_given_s(w)))\n",
    "    samples += 1\n",
    "for w in range(0, n):\n",
    "    plt.plot(x, y[w])\n",
    "plt.grid()\n",
    "plt.show()"
   ]
  },
  {
   "cell_type": "markdown",
   "metadata": {},
   "source": [
    "From the above graph, it is evident that our estimated value for P(W|S) decreases sharply at first, then less so until after about 75 or so samples a significant large increase in sampling has only a small effect."
   ]
  }
 ],
 "metadata": {
  "kernelspec": {
   "display_name": "Python 3",
   "language": "python",
   "name": "python3"
  },
  "language_info": {
   "codemirror_mode": {
    "name": "ipython",
    "version": 3
   },
   "file_extension": ".py",
   "mimetype": "text/x-python",
   "name": "python",
   "nbconvert_exporter": "python",
   "pygments_lexer": "ipython3",
   "version": "3.5.3"
  }
 },
 "nbformat": 4,
 "nbformat_minor": 2
}
